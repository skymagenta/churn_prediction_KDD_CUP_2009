{
 "cells": [
  {
   "cell_type": "markdown",
   "id": "6412d0e1",
   "metadata": {},
   "source": [
    "# Прогнозирование оттока пользователей.\n",
    "\n",
    "В этом соревновании предстоит спрогнозировать клиентов телеком оператора, склонных к оттоку.\n",
    "\n",
    "Необходимо построить модель, прогнозирующую клиентов, склонных к оттоку. В качестве результата, требуется не просто выбрать к какому классу ('1' - отток, '-1' - не отток) относится пользователь, но и дать вероятностную оценку, т.е. оценить с какой вероятностью клиент относится к классу отток."
   ]
  },
  {
   "cell_type": "markdown",
   "id": "c9de910a",
   "metadata": {},
   "source": [
    "# Описание полей.\n",
    "\n",
    "Данные являются закрытыми и предоставляются без описания. Датасет состоит из 230 признаков, из которых первые 190 - числовые, и оставшиеся 40 - категориальные."
   ]
  },
  {
   "cell_type": "markdown",
   "id": "a16b12f2",
   "metadata": {},
   "source": [
    "# Оценка качества\n",
    "\n",
    "Оценка качества проводится с помощью метрики ROC-AUC (receiver operating characteristic - area under curve, или площадь под ROC-кривой).\n",
    "Площадь под кривой будет характеризовать  качество оценок принадлежности к первому классу (класс `отток`).\n",
    "\n",
    "Так же стоит понимать, что ROC-AUC имеет смысл вероятности того, что если были выбраны случайный положительный (класс `отток`) и отрицательный объекты выборки, то положительный объект получит оценку принадлежности выше, чем отрицательный объект."
   ]
  },
  {
   "cell_type": "code",
   "execution_count": 1,
   "id": "c61b7732",
   "metadata": {},
   "outputs": [],
   "source": [
    "import pandas as pd\n",
    "import numpy as np\n",
    "\n",
    "# for plotting\n",
    "import matplotlib.pyplot as plt\n",
    "import seaborn as sns\n",
    "%matplotlib inline \n",
    "sns.set(style=\"ticks\")\n",
    "\n",
    "from sklearn.metrics import roc_auc_score\n",
    "from sklearn.model_selection import cross_val_score\n",
    "from sklearn.model_selection import train_test_split\n",
    "from sklearn.metrics import RocCurveDisplay\n",
    "\n",
    "# for the Q-Q plots\n",
    "# import scipy.stats as stats"
   ]
  },
  {
   "cell_type": "markdown",
   "id": "68da298c",
   "metadata": {},
   "source": [
    "## Загрузка и обзор данных"
   ]
  },
  {
   "cell_type": "code",
   "execution_count": 2,
   "id": "0b0b6c41",
   "metadata": {},
   "outputs": [],
   "source": [
    "df = pd.read_csv('orange_small_churn_train_data.csv')"
   ]
  },
  {
   "cell_type": "code",
   "execution_count": 3,
   "id": "511b27b0",
   "metadata": {},
   "outputs": [
    {
     "data": {
      "text/html": [
       "<div>\n",
       "<style scoped>\n",
       "    .dataframe tbody tr th:only-of-type {\n",
       "        vertical-align: middle;\n",
       "    }\n",
       "\n",
       "    .dataframe tbody tr th {\n",
       "        vertical-align: top;\n",
       "    }\n",
       "\n",
       "    .dataframe thead th {\n",
       "        text-align: right;\n",
       "    }\n",
       "</style>\n",
       "<table border=\"1\" class=\"dataframe\">\n",
       "  <thead>\n",
       "    <tr style=\"text-align: right;\">\n",
       "      <th></th>\n",
       "      <th>ID</th>\n",
       "      <th>Var1</th>\n",
       "      <th>Var2</th>\n",
       "      <th>Var3</th>\n",
       "      <th>Var4</th>\n",
       "      <th>Var5</th>\n",
       "      <th>Var6</th>\n",
       "      <th>Var7</th>\n",
       "      <th>Var8</th>\n",
       "      <th>Var9</th>\n",
       "      <th>...</th>\n",
       "      <th>Var222</th>\n",
       "      <th>Var223</th>\n",
       "      <th>Var224</th>\n",
       "      <th>Var225</th>\n",
       "      <th>Var226</th>\n",
       "      <th>Var227</th>\n",
       "      <th>Var228</th>\n",
       "      <th>Var229</th>\n",
       "      <th>Var230</th>\n",
       "      <th>labels</th>\n",
       "    </tr>\n",
       "  </thead>\n",
       "  <tbody>\n",
       "    <tr>\n",
       "      <th>0</th>\n",
       "      <td>0</td>\n",
       "      <td>NaN</td>\n",
       "      <td>NaN</td>\n",
       "      <td>NaN</td>\n",
       "      <td>NaN</td>\n",
       "      <td>NaN</td>\n",
       "      <td>3052.0</td>\n",
       "      <td>NaN</td>\n",
       "      <td>NaN</td>\n",
       "      <td>NaN</td>\n",
       "      <td>...</td>\n",
       "      <td>vr93T2a</td>\n",
       "      <td>LM8l689qOp</td>\n",
       "      <td>NaN</td>\n",
       "      <td>NaN</td>\n",
       "      <td>fKCe</td>\n",
       "      <td>02N6s8f</td>\n",
       "      <td>xwM2aC7IdeMC0</td>\n",
       "      <td>NaN</td>\n",
       "      <td>NaN</td>\n",
       "      <td>-1.0</td>\n",
       "    </tr>\n",
       "    <tr>\n",
       "      <th>1</th>\n",
       "      <td>1</td>\n",
       "      <td>NaN</td>\n",
       "      <td>NaN</td>\n",
       "      <td>NaN</td>\n",
       "      <td>NaN</td>\n",
       "      <td>NaN</td>\n",
       "      <td>1813.0</td>\n",
       "      <td>7.0</td>\n",
       "      <td>NaN</td>\n",
       "      <td>NaN</td>\n",
       "      <td>...</td>\n",
       "      <td>6hQ9lNX</td>\n",
       "      <td>LM8l689qOp</td>\n",
       "      <td>NaN</td>\n",
       "      <td>ELof</td>\n",
       "      <td>xb3V</td>\n",
       "      <td>RAYp</td>\n",
       "      <td>55YFVY9</td>\n",
       "      <td>mj86</td>\n",
       "      <td>NaN</td>\n",
       "      <td>-1.0</td>\n",
       "    </tr>\n",
       "    <tr>\n",
       "      <th>2</th>\n",
       "      <td>2</td>\n",
       "      <td>NaN</td>\n",
       "      <td>NaN</td>\n",
       "      <td>NaN</td>\n",
       "      <td>NaN</td>\n",
       "      <td>NaN</td>\n",
       "      <td>1953.0</td>\n",
       "      <td>7.0</td>\n",
       "      <td>NaN</td>\n",
       "      <td>NaN</td>\n",
       "      <td>...</td>\n",
       "      <td>catzS2D</td>\n",
       "      <td>LM8l689qOp</td>\n",
       "      <td>NaN</td>\n",
       "      <td>NaN</td>\n",
       "      <td>FSa2</td>\n",
       "      <td>ZI9m</td>\n",
       "      <td>ib5G6X1eUxUn6</td>\n",
       "      <td>mj86</td>\n",
       "      <td>NaN</td>\n",
       "      <td>-1.0</td>\n",
       "    </tr>\n",
       "    <tr>\n",
       "      <th>3</th>\n",
       "      <td>3</td>\n",
       "      <td>NaN</td>\n",
       "      <td>NaN</td>\n",
       "      <td>NaN</td>\n",
       "      <td>NaN</td>\n",
       "      <td>NaN</td>\n",
       "      <td>1533.0</td>\n",
       "      <td>7.0</td>\n",
       "      <td>NaN</td>\n",
       "      <td>NaN</td>\n",
       "      <td>...</td>\n",
       "      <td>e4lqvY0</td>\n",
       "      <td>LM8l689qOp</td>\n",
       "      <td>NaN</td>\n",
       "      <td>NaN</td>\n",
       "      <td>xb3V</td>\n",
       "      <td>RAYp</td>\n",
       "      <td>F2FyR07IdsN7I</td>\n",
       "      <td>NaN</td>\n",
       "      <td>NaN</td>\n",
       "      <td>1.0</td>\n",
       "    </tr>\n",
       "    <tr>\n",
       "      <th>4</th>\n",
       "      <td>4</td>\n",
       "      <td>NaN</td>\n",
       "      <td>NaN</td>\n",
       "      <td>NaN</td>\n",
       "      <td>NaN</td>\n",
       "      <td>NaN</td>\n",
       "      <td>686.0</td>\n",
       "      <td>7.0</td>\n",
       "      <td>NaN</td>\n",
       "      <td>NaN</td>\n",
       "      <td>...</td>\n",
       "      <td>MAz3HNj</td>\n",
       "      <td>LM8l689qOp</td>\n",
       "      <td>NaN</td>\n",
       "      <td>NaN</td>\n",
       "      <td>WqMG</td>\n",
       "      <td>RAYp</td>\n",
       "      <td>F2FyR07IdsN7I</td>\n",
       "      <td>NaN</td>\n",
       "      <td>NaN</td>\n",
       "      <td>-1.0</td>\n",
       "    </tr>\n",
       "  </tbody>\n",
       "</table>\n",
       "<p>5 rows × 232 columns</p>\n",
       "</div>"
      ],
      "text/plain": [
       "   ID  Var1  Var2  Var3  Var4  Var5    Var6  Var7  Var8  Var9  ...   Var222  \\\n",
       "0   0   NaN   NaN   NaN   NaN   NaN  3052.0   NaN   NaN   NaN  ...  vr93T2a   \n",
       "1   1   NaN   NaN   NaN   NaN   NaN  1813.0   7.0   NaN   NaN  ...  6hQ9lNX   \n",
       "2   2   NaN   NaN   NaN   NaN   NaN  1953.0   7.0   NaN   NaN  ...  catzS2D   \n",
       "3   3   NaN   NaN   NaN   NaN   NaN  1533.0   7.0   NaN   NaN  ...  e4lqvY0   \n",
       "4   4   NaN   NaN   NaN   NaN   NaN   686.0   7.0   NaN   NaN  ...  MAz3HNj   \n",
       "\n",
       "       Var223  Var224  Var225  Var226   Var227         Var228  Var229  Var230  \\\n",
       "0  LM8l689qOp     NaN     NaN    fKCe  02N6s8f  xwM2aC7IdeMC0     NaN     NaN   \n",
       "1  LM8l689qOp     NaN    ELof    xb3V     RAYp        55YFVY9    mj86     NaN   \n",
       "2  LM8l689qOp     NaN     NaN    FSa2     ZI9m  ib5G6X1eUxUn6    mj86     NaN   \n",
       "3  LM8l689qOp     NaN     NaN    xb3V     RAYp  F2FyR07IdsN7I     NaN     NaN   \n",
       "4  LM8l689qOp     NaN     NaN    WqMG     RAYp  F2FyR07IdsN7I     NaN     NaN   \n",
       "\n",
       "   labels  \n",
       "0    -1.0  \n",
       "1    -1.0  \n",
       "2    -1.0  \n",
       "3     1.0  \n",
       "4    -1.0  \n",
       "\n",
       "[5 rows x 232 columns]"
      ]
     },
     "execution_count": 3,
     "metadata": {},
     "output_type": "execute_result"
    }
   ],
   "source": [
    "df.head()"
   ]
  },
  {
   "cell_type": "markdown",
   "id": "5705fefc",
   "metadata": {},
   "source": [
    "Набор данных включает в себя метки классов (последний столбец). В данных имеются пропуски, значения категориальных переменных закодированы (нет понимания что означают значения категориальных признаков)."
   ]
  },
  {
   "cell_type": "code",
   "execution_count": 4,
   "id": "a6b9e406",
   "metadata": {},
   "outputs": [
    {
     "data": {
      "text/plain": [
       "(18299, 232)"
      ]
     },
     "execution_count": 4,
     "metadata": {},
     "output_type": "execute_result"
    }
   ],
   "source": [
    "df.shape"
   ]
  },
  {
   "cell_type": "code",
   "execution_count": 5,
   "id": "5c466a5d",
   "metadata": {},
   "outputs": [
    {
     "data": {
      "text/plain": [
       "ID        0.000000\n",
       "Var1      0.985737\n",
       "Var2      0.974425\n",
       "Var3      0.974479\n",
       "Var4      0.969233\n",
       "            ...   \n",
       "Var227    0.000055\n",
       "Var228    0.000055\n",
       "Var229    0.566479\n",
       "Var230    1.000000\n",
       "labels    0.000055\n",
       "Length: 232, dtype: float64"
      ]
     },
     "execution_count": 5,
     "metadata": {},
     "output_type": "execute_result"
    }
   ],
   "source": [
    "# посмотрим на долю пропущенных значений для каждого признака\n",
    "df.isnull().mean()"
   ]
  },
  {
   "cell_type": "markdown",
   "id": "be189605",
   "metadata": {},
   "source": [
    "Видно, что в целевой переменной имеются пропуски. Посмотрим на количество пропусков."
   ]
  },
  {
   "cell_type": "code",
   "execution_count": 6,
   "id": "958decea",
   "metadata": {},
   "outputs": [
    {
     "data": {
      "text/plain": [
       "1"
      ]
     },
     "execution_count": 6,
     "metadata": {},
     "output_type": "execute_result"
    }
   ],
   "source": [
    "df['labels'].isnull().sum()"
   ]
  },
  {
   "cell_type": "markdown",
   "id": "1379d1d9",
   "metadata": {},
   "source": [
    "В тренировочном наборе данных отсутствует метка класса в одном из объектов. Найдем и избавимся от этого объекта."
   ]
  },
  {
   "cell_type": "code",
   "execution_count": 7,
   "id": "63b7e1f4",
   "metadata": {},
   "outputs": [
    {
     "data": {
      "text/html": [
       "<div>\n",
       "<style scoped>\n",
       "    .dataframe tbody tr th:only-of-type {\n",
       "        vertical-align: middle;\n",
       "    }\n",
       "\n",
       "    .dataframe tbody tr th {\n",
       "        vertical-align: top;\n",
       "    }\n",
       "\n",
       "    .dataframe thead th {\n",
       "        text-align: right;\n",
       "    }\n",
       "</style>\n",
       "<table border=\"1\" class=\"dataframe\">\n",
       "  <thead>\n",
       "    <tr style=\"text-align: right;\">\n",
       "      <th></th>\n",
       "      <th>ID</th>\n",
       "      <th>Var1</th>\n",
       "      <th>Var2</th>\n",
       "      <th>Var3</th>\n",
       "      <th>Var4</th>\n",
       "      <th>Var5</th>\n",
       "      <th>Var6</th>\n",
       "      <th>Var7</th>\n",
       "      <th>Var8</th>\n",
       "      <th>Var9</th>\n",
       "      <th>...</th>\n",
       "      <th>Var222</th>\n",
       "      <th>Var223</th>\n",
       "      <th>Var224</th>\n",
       "      <th>Var225</th>\n",
       "      <th>Var226</th>\n",
       "      <th>Var227</th>\n",
       "      <th>Var228</th>\n",
       "      <th>Var229</th>\n",
       "      <th>Var230</th>\n",
       "      <th>labels</th>\n",
       "    </tr>\n",
       "  </thead>\n",
       "  <tbody>\n",
       "    <tr>\n",
       "      <th>18298</th>\n",
       "      <td>False</td>\n",
       "      <td>True</td>\n",
       "      <td>True</td>\n",
       "      <td>True</td>\n",
       "      <td>True</td>\n",
       "      <td>True</td>\n",
       "      <td>False</td>\n",
       "      <td>False</td>\n",
       "      <td>True</td>\n",
       "      <td>True</td>\n",
       "      <td>...</td>\n",
       "      <td>True</td>\n",
       "      <td>True</td>\n",
       "      <td>True</td>\n",
       "      <td>True</td>\n",
       "      <td>True</td>\n",
       "      <td>True</td>\n",
       "      <td>True</td>\n",
       "      <td>True</td>\n",
       "      <td>True</td>\n",
       "      <td>True</td>\n",
       "    </tr>\n",
       "  </tbody>\n",
       "</table>\n",
       "<p>1 rows × 232 columns</p>\n",
       "</div>"
      ],
      "text/plain": [
       "          ID  Var1  Var2  Var3  Var4  Var5   Var6   Var7  Var8  Var9  ...  \\\n",
       "18298  False  True  True  True  True  True  False  False  True  True  ...   \n",
       "\n",
       "       Var222  Var223  Var224  Var225  Var226  Var227  Var228  Var229  Var230  \\\n",
       "18298    True    True    True    True    True    True    True    True    True   \n",
       "\n",
       "       labels  \n",
       "18298    True  \n",
       "\n",
       "[1 rows x 232 columns]"
      ]
     },
     "execution_count": 7,
     "metadata": {},
     "output_type": "execute_result"
    }
   ],
   "source": [
    "df.isnull()[df.isnull().labels == True]"
   ]
  },
  {
   "cell_type": "code",
   "execution_count": 8,
   "id": "19fd87f9",
   "metadata": {},
   "outputs": [
    {
     "name": "stdout",
     "output_type": "stream",
     "text": [
      "количество объектов, в которых отсутствует метка класса = 1\n"
     ]
    },
    {
     "data": {
      "text/plain": [
       "[18298]"
      ]
     },
     "execution_count": 8,
     "metadata": {},
     "output_type": "execute_result"
    }
   ],
   "source": [
    "objects_for_remove = list(df.isnull()[df.isnull().labels == True].index)\n",
    "print(f'количество объектов, в которых отсутствует метка класса = {len(objects_for_remove)}')\n",
    "objects_for_remove"
   ]
  },
  {
   "cell_type": "code",
   "execution_count": 9,
   "id": "9dfc1a93",
   "metadata": {},
   "outputs": [],
   "source": [
    "# удаление объекта, где отсутствует метка класса\n",
    "df.drop(objects_for_remove, axis=0, inplace=True)"
   ]
  },
  {
   "cell_type": "code",
   "execution_count": 10,
   "id": "8912c94d",
   "metadata": {},
   "outputs": [
    {
     "data": {
      "text/html": [
       "<div>\n",
       "<style scoped>\n",
       "    .dataframe tbody tr th:only-of-type {\n",
       "        vertical-align: middle;\n",
       "    }\n",
       "\n",
       "    .dataframe tbody tr th {\n",
       "        vertical-align: top;\n",
       "    }\n",
       "\n",
       "    .dataframe thead th {\n",
       "        text-align: right;\n",
       "    }\n",
       "</style>\n",
       "<table border=\"1\" class=\"dataframe\">\n",
       "  <thead>\n",
       "    <tr style=\"text-align: right;\">\n",
       "      <th></th>\n",
       "      <th>ID</th>\n",
       "      <th>Var1</th>\n",
       "      <th>Var2</th>\n",
       "      <th>Var3</th>\n",
       "      <th>Var4</th>\n",
       "      <th>Var5</th>\n",
       "      <th>Var6</th>\n",
       "      <th>Var7</th>\n",
       "      <th>Var8</th>\n",
       "      <th>Var9</th>\n",
       "      <th>...</th>\n",
       "      <th>Var184</th>\n",
       "      <th>Var185</th>\n",
       "      <th>Var186</th>\n",
       "      <th>Var187</th>\n",
       "      <th>Var188</th>\n",
       "      <th>Var189</th>\n",
       "      <th>Var190</th>\n",
       "      <th>Var209</th>\n",
       "      <th>Var230</th>\n",
       "      <th>labels</th>\n",
       "    </tr>\n",
       "  </thead>\n",
       "  <tbody>\n",
       "    <tr>\n",
       "      <th>count</th>\n",
       "      <td>18298.000000</td>\n",
       "      <td>261.000000</td>\n",
       "      <td>468.000000</td>\n",
       "      <td>467.000000</td>\n",
       "      <td>563.000000</td>\n",
       "      <td>5.000000e+02</td>\n",
       "      <td>16307.000000</td>\n",
       "      <td>16322.000000</td>\n",
       "      <td>0.0</td>\n",
       "      <td>261.000000</td>\n",
       "      <td>...</td>\n",
       "      <td>468.000000</td>\n",
       "      <td>0.0</td>\n",
       "      <td>261.000000</td>\n",
       "      <td>261.000000</td>\n",
       "      <td>468.000000</td>\n",
       "      <td>7681.000000</td>\n",
       "      <td>104.000000</td>\n",
       "      <td>0.0</td>\n",
       "      <td>0.0</td>\n",
       "      <td>18298.000000</td>\n",
       "    </tr>\n",
       "    <tr>\n",
       "      <th>mean</th>\n",
       "      <td>9148.500000</td>\n",
       "      <td>10.789272</td>\n",
       "      <td>0.010684</td>\n",
       "      <td>594.308351</td>\n",
       "      <td>0.079929</td>\n",
       "      <td>2.764255e+05</td>\n",
       "      <td>1304.059177</td>\n",
       "      <td>6.791141</td>\n",
       "      <td>NaN</td>\n",
       "      <td>51.026820</td>\n",
       "      <td>...</td>\n",
       "      <td>5.564103</td>\n",
       "      <td>NaN</td>\n",
       "      <td>3.471264</td>\n",
       "      <td>17.111111</td>\n",
       "      <td>164.132692</td>\n",
       "      <td>269.753157</td>\n",
       "      <td>20176.838654</td>\n",
       "      <td>NaN</td>\n",
       "      <td>NaN</td>\n",
       "      <td>-0.849492</td>\n",
       "    </tr>\n",
       "    <tr>\n",
       "      <th>std</th>\n",
       "      <td>5282.321948</td>\n",
       "      <td>35.387167</td>\n",
       "      <td>0.231125</td>\n",
       "      <td>6322.659738</td>\n",
       "      <td>0.845128</td>\n",
       "      <td>7.546352e+05</td>\n",
       "      <td>2442.495924</td>\n",
       "      <td>6.283886</td>\n",
       "      <td>NaN</td>\n",
       "      <td>163.530435</td>\n",
       "      <td>...</td>\n",
       "      <td>12.953473</td>\n",
       "      <td>NaN</td>\n",
       "      <td>8.802761</td>\n",
       "      <td>53.817704</td>\n",
       "      <td>113.378672</td>\n",
       "      <td>86.739021</td>\n",
       "      <td>29390.584919</td>\n",
       "      <td>NaN</td>\n",
       "      <td>NaN</td>\n",
       "      <td>0.527616</td>\n",
       "    </tr>\n",
       "    <tr>\n",
       "      <th>min</th>\n",
       "      <td>0.000000</td>\n",
       "      <td>0.000000</td>\n",
       "      <td>0.000000</td>\n",
       "      <td>0.000000</td>\n",
       "      <td>0.000000</td>\n",
       "      <td>0.000000e+00</td>\n",
       "      <td>0.000000</td>\n",
       "      <td>0.000000</td>\n",
       "      <td>NaN</td>\n",
       "      <td>0.000000</td>\n",
       "      <td>...</td>\n",
       "      <td>0.000000</td>\n",
       "      <td>NaN</td>\n",
       "      <td>0.000000</td>\n",
       "      <td>0.000000</td>\n",
       "      <td>0.000000</td>\n",
       "      <td>6.000000</td>\n",
       "      <td>0.000000</td>\n",
       "      <td>NaN</td>\n",
       "      <td>NaN</td>\n",
       "      <td>-1.000000</td>\n",
       "    </tr>\n",
       "    <tr>\n",
       "      <th>25%</th>\n",
       "      <td>4574.250000</td>\n",
       "      <td>0.000000</td>\n",
       "      <td>0.000000</td>\n",
       "      <td>0.000000</td>\n",
       "      <td>0.000000</td>\n",
       "      <td>0.000000e+00</td>\n",
       "      <td>518.000000</td>\n",
       "      <td>0.000000</td>\n",
       "      <td>NaN</td>\n",
       "      <td>6.000000</td>\n",
       "      <td>...</td>\n",
       "      <td>0.000000</td>\n",
       "      <td>NaN</td>\n",
       "      <td>0.000000</td>\n",
       "      <td>0.000000</td>\n",
       "      <td>19.380000</td>\n",
       "      <td>204.000000</td>\n",
       "      <td>2139.952500</td>\n",
       "      <td>NaN</td>\n",
       "      <td>NaN</td>\n",
       "      <td>-1.000000</td>\n",
       "    </tr>\n",
       "    <tr>\n",
       "      <th>50%</th>\n",
       "      <td>9148.500000</td>\n",
       "      <td>0.000000</td>\n",
       "      <td>0.000000</td>\n",
       "      <td>0.000000</td>\n",
       "      <td>0.000000</td>\n",
       "      <td>0.000000e+00</td>\n",
       "      <td>854.000000</td>\n",
       "      <td>7.000000</td>\n",
       "      <td>NaN</td>\n",
       "      <td>22.000000</td>\n",
       "      <td>...</td>\n",
       "      <td>0.000000</td>\n",
       "      <td>NaN</td>\n",
       "      <td>0.000000</td>\n",
       "      <td>4.000000</td>\n",
       "      <td>193.980000</td>\n",
       "      <td>270.000000</td>\n",
       "      <td>9357.884500</td>\n",
       "      <td>NaN</td>\n",
       "      <td>NaN</td>\n",
       "      <td>-1.000000</td>\n",
       "    </tr>\n",
       "    <tr>\n",
       "      <th>75%</th>\n",
       "      <td>13722.750000</td>\n",
       "      <td>8.000000</td>\n",
       "      <td>0.000000</td>\n",
       "      <td>0.000000</td>\n",
       "      <td>0.000000</td>\n",
       "      <td>1.260125e+05</td>\n",
       "      <td>1428.000000</td>\n",
       "      <td>7.000000</td>\n",
       "      <td>NaN</td>\n",
       "      <td>46.000000</td>\n",
       "      <td>...</td>\n",
       "      <td>4.000000</td>\n",
       "      <td>NaN</td>\n",
       "      <td>6.000000</td>\n",
       "      <td>18.000000</td>\n",
       "      <td>246.135000</td>\n",
       "      <td>324.000000</td>\n",
       "      <td>26236.440000</td>\n",
       "      <td>NaN</td>\n",
       "      <td>NaN</td>\n",
       "      <td>-1.000000</td>\n",
       "    </tr>\n",
       "    <tr>\n",
       "      <th>max</th>\n",
       "      <td>18297.000000</td>\n",
       "      <td>392.000000</td>\n",
       "      <td>5.000000</td>\n",
       "      <td>130668.000000</td>\n",
       "      <td>9.000000</td>\n",
       "      <td>6.048550e+06</td>\n",
       "      <td>114079.000000</td>\n",
       "      <td>35.000000</td>\n",
       "      <td>NaN</td>\n",
       "      <td>2300.000000</td>\n",
       "      <td>...</td>\n",
       "      <td>132.000000</td>\n",
       "      <td>NaN</td>\n",
       "      <td>78.000000</td>\n",
       "      <td>634.000000</td>\n",
       "      <td>628.620000</td>\n",
       "      <td>642.000000</td>\n",
       "      <td>191167.200000</td>\n",
       "      <td>NaN</td>\n",
       "      <td>NaN</td>\n",
       "      <td>1.000000</td>\n",
       "    </tr>\n",
       "  </tbody>\n",
       "</table>\n",
       "<p>8 rows × 194 columns</p>\n",
       "</div>"
      ],
      "text/plain": [
       "                 ID        Var1        Var2           Var3        Var4  \\\n",
       "count  18298.000000  261.000000  468.000000     467.000000  563.000000   \n",
       "mean    9148.500000   10.789272    0.010684     594.308351    0.079929   \n",
       "std     5282.321948   35.387167    0.231125    6322.659738    0.845128   \n",
       "min        0.000000    0.000000    0.000000       0.000000    0.000000   \n",
       "25%     4574.250000    0.000000    0.000000       0.000000    0.000000   \n",
       "50%     9148.500000    0.000000    0.000000       0.000000    0.000000   \n",
       "75%    13722.750000    8.000000    0.000000       0.000000    0.000000   \n",
       "max    18297.000000  392.000000    5.000000  130668.000000    9.000000   \n",
       "\n",
       "               Var5           Var6          Var7  Var8         Var9  ...  \\\n",
       "count  5.000000e+02   16307.000000  16322.000000   0.0   261.000000  ...   \n",
       "mean   2.764255e+05    1304.059177      6.791141   NaN    51.026820  ...   \n",
       "std    7.546352e+05    2442.495924      6.283886   NaN   163.530435  ...   \n",
       "min    0.000000e+00       0.000000      0.000000   NaN     0.000000  ...   \n",
       "25%    0.000000e+00     518.000000      0.000000   NaN     6.000000  ...   \n",
       "50%    0.000000e+00     854.000000      7.000000   NaN    22.000000  ...   \n",
       "75%    1.260125e+05    1428.000000      7.000000   NaN    46.000000  ...   \n",
       "max    6.048550e+06  114079.000000     35.000000   NaN  2300.000000  ...   \n",
       "\n",
       "           Var184  Var185      Var186      Var187      Var188       Var189  \\\n",
       "count  468.000000     0.0  261.000000  261.000000  468.000000  7681.000000   \n",
       "mean     5.564103     NaN    3.471264   17.111111  164.132692   269.753157   \n",
       "std     12.953473     NaN    8.802761   53.817704  113.378672    86.739021   \n",
       "min      0.000000     NaN    0.000000    0.000000    0.000000     6.000000   \n",
       "25%      0.000000     NaN    0.000000    0.000000   19.380000   204.000000   \n",
       "50%      0.000000     NaN    0.000000    4.000000  193.980000   270.000000   \n",
       "75%      4.000000     NaN    6.000000   18.000000  246.135000   324.000000   \n",
       "max    132.000000     NaN   78.000000  634.000000  628.620000   642.000000   \n",
       "\n",
       "              Var190  Var209  Var230        labels  \n",
       "count     104.000000     0.0     0.0  18298.000000  \n",
       "mean    20176.838654     NaN     NaN     -0.849492  \n",
       "std     29390.584919     NaN     NaN      0.527616  \n",
       "min         0.000000     NaN     NaN     -1.000000  \n",
       "25%      2139.952500     NaN     NaN     -1.000000  \n",
       "50%      9357.884500     NaN     NaN     -1.000000  \n",
       "75%     26236.440000     NaN     NaN     -1.000000  \n",
       "max    191167.200000     NaN     NaN      1.000000  \n",
       "\n",
       "[8 rows x 194 columns]"
      ]
     },
     "execution_count": 10,
     "metadata": {},
     "output_type": "execute_result"
    }
   ],
   "source": [
    "# Основные статистические характеристики набора данных\n",
    "df.describe()"
   ]
  },
  {
   "cell_type": "markdown",
   "id": "f9bd2c6d",
   "metadata": {},
   "source": [
    "Как видим, в таблице 232 столбца, в т.ч. столбцы: ID (по сути не является признаком) и label (метка класса). Итоговое количество признаков составляет 230. В признаках присутствуют пропуски.\n",
    "\n",
    "Удалим столбец ID."
   ]
  },
  {
   "cell_type": "code",
   "execution_count": 11,
   "id": "838cabb2",
   "metadata": {},
   "outputs": [],
   "source": [
    "df.drop('ID', axis=1, inplace=True)"
   ]
  },
  {
   "cell_type": "code",
   "execution_count": 12,
   "id": "12a9c2e9",
   "metadata": {},
   "outputs": [
    {
     "data": {
      "text/plain": [
       "array([-1.,  1.])"
      ]
     },
     "execution_count": 12,
     "metadata": {},
     "output_type": "execute_result"
    }
   ],
   "source": [
    "# посмотрим на уникальные значения целевого признака\n",
    "df['labels'].unique()"
   ]
  },
  {
   "cell_type": "markdown",
   "id": "23307a06",
   "metadata": {},
   "source": [
    "Целевой признак является бинарным и содержит значения -1 и 1."
   ]
  },
  {
   "cell_type": "markdown",
   "id": "bc902e4f",
   "metadata": {},
   "source": [
    "#### Определим имена числовых и категориальных признаков"
   ]
  },
  {
   "cell_type": "markdown",
   "id": "bd8a9f8d",
   "metadata": {},
   "source": [
    "По условиям задачи известно, что первые 190 признаков - числовые, остальные 40 - категориальные."
   ]
  },
  {
   "cell_type": "code",
   "execution_count": 13,
   "id": "7bf148b9",
   "metadata": {},
   "outputs": [
    {
     "name": "stdout",
     "output_type": "stream",
     "text": [
      "кол-во числовых признаков составляет 190\n",
      "кол-во категориальных признаков составляет 40\n"
     ]
    }
   ],
   "source": [
    "num_features = set(df.columns[:190])\n",
    "cat_features = set(df.columns[190:230])\n",
    "\n",
    "print(f\"кол-во числовых признаков составляет {len(num_features)}\")\n",
    "print(f\"кол-во категориальных признаков составляет {len(cat_features)}\")"
   ]
  },
  {
   "cell_type": "markdown",
   "id": "0858f357",
   "metadata": {},
   "source": [
    "Отделим обучающую выборку и метки классов из набора данных."
   ]
  },
  {
   "cell_type": "code",
   "execution_count": 14,
   "id": "e46d610c",
   "metadata": {},
   "outputs": [],
   "source": [
    "df, labels = df.iloc[:, :-1], df.iloc[:,-1]"
   ]
  },
  {
   "cell_type": "code",
   "execution_count": 15,
   "id": "a4cb7a40",
   "metadata": {},
   "outputs": [
    {
     "data": {
      "text/plain": [
       "(18298, 230)"
      ]
     },
     "execution_count": 15,
     "metadata": {},
     "output_type": "execute_result"
    }
   ],
   "source": [
    "df.shape"
   ]
  },
  {
   "cell_type": "code",
   "execution_count": 16,
   "id": "62ad9897",
   "metadata": {},
   "outputs": [
    {
     "data": {
      "text/plain": [
       "(18298,)"
      ]
     },
     "execution_count": 16,
     "metadata": {},
     "output_type": "execute_result"
    }
   ],
   "source": [
    "labels.shape"
   ]
  },
  {
   "cell_type": "markdown",
   "id": "9eee7a53",
   "metadata": {},
   "source": [
    "Посмтрим на баланса классов"
   ]
  },
  {
   "cell_type": "code",
   "execution_count": 17,
   "id": "a23e0626",
   "metadata": {},
   "outputs": [
    {
     "data": {
      "text/plain": [
       "-1.0    0.924746\n",
       " 1.0    0.075254\n",
       "Name: labels, dtype: float64"
      ]
     },
     "execution_count": 17,
     "metadata": {},
     "output_type": "execute_result"
    }
   ],
   "source": [
    "labels.value_counts() / len(labels)"
   ]
  },
  {
   "cell_type": "markdown",
   "id": "e087913b",
   "metadata": {},
   "source": [
    "В нашей задаче прогнозирования клиентов склонных к оттоку имеется дисбаланс классов. Объясняется тем, что количество 'отточных' клиентов всегда меньше, чем тех, кто продолжает оставаться клиентами компании."
   ]
  },
  {
   "cell_type": "markdown",
   "id": "cdb0f5e2",
   "metadata": {},
   "source": [
    "#### Отложенная выборка"
   ]
  },
  {
   "cell_type": "code",
   "execution_count": 18,
   "id": "cbb75e08",
   "metadata": {},
   "outputs": [],
   "source": [
    "df, df_test, labels, labels_test = train_test_split(df, labels, test_size=0.2, shuffle=True, random_state=1, stratify=labels)"
   ]
  },
  {
   "cell_type": "code",
   "execution_count": 19,
   "id": "5a81811d",
   "metadata": {},
   "outputs": [
    {
     "data": {
      "text/plain": [
       "(14638, 230)"
      ]
     },
     "execution_count": 19,
     "metadata": {},
     "output_type": "execute_result"
    }
   ],
   "source": [
    "df.shape"
   ]
  },
  {
   "cell_type": "code",
   "execution_count": 20,
   "id": "2f186d50",
   "metadata": {},
   "outputs": [
    {
     "data": {
      "text/plain": [
       "(14638,)"
      ]
     },
     "execution_count": 20,
     "metadata": {},
     "output_type": "execute_result"
    }
   ],
   "source": [
    "labels.shape"
   ]
  },
  {
   "cell_type": "markdown",
   "id": "179aeb38",
   "metadata": {},
   "source": [
    "# Первичный отбор признаков"
   ]
  },
  {
   "cell_type": "markdown",
   "id": "8e776a10",
   "metadata": {},
   "source": [
    "#### Создадим функцию, которая удаляет заданные признаки в наборе данных, а так же обновляет списки оставшихся после удаления числовых и категориальных имен признаков."
   ]
  },
  {
   "cell_type": "code",
   "execution_count": 21,
   "id": "820a65c6",
   "metadata": {},
   "outputs": [],
   "source": [
    "def del_features(df, features_for_remove, number_features=num_features, categorical_features=cat_features):\n",
    "    \"\"\"\n",
    "    Remove features in df and update feature names of df after removing.\n",
    "    \"\"\"\n",
    "    global num_features\n",
    "    num_features = list(set(num_features) - set(features_for_remove))\n",
    "    global cat_features\n",
    "    cat_features = list(set(cat_features) - set(features_for_remove))\n",
    "    try:\n",
    "        df.drop(features_for_remove, axis=1, inplace=True)\n",
    "    except KeyError:\n",
    "        print('Не найдены признаки для удаления!')"
   ]
  },
  {
   "cell_type": "markdown",
   "id": "90710e93",
   "metadata": {},
   "source": [
    "#### Визуализируем пропуски"
   ]
  },
  {
   "cell_type": "code",
   "execution_count": 22,
   "id": "4e427bc5",
   "metadata": {},
   "outputs": [],
   "source": [
    "def null_map(data):\n",
    "    #Show null map of the data\n",
    "    \n",
    "    data_to_heat = data.isnull()\n",
    "    null_count = (data_to_heat == True).sum().sum()\n",
    "    with plt.xkcd():\n",
    "        plt.figure(figsize=(20,14))\n",
    "        if null_count > 0:\n",
    "            colors = ['#000099', '#ffff00'] \n",
    "        else:\n",
    "            colors = ['#000099'] \n",
    "        sns.heatmap(data_to_heat,cmap = sns.color_palette(colors));"
   ]
  },
  {
   "cell_type": "code",
   "execution_count": 23,
   "id": "7e7be792",
   "metadata": {},
   "outputs": [],
   "source": [
    "# null_map(df)"
   ]
  },
  {
   "cell_type": "markdown",
   "id": "45869f8a",
   "metadata": {},
   "source": [
    "Имеются признаки, в которых очень много пропусков (в визуальном представлении представлены `желтым цветом`). В дальнейшем будет определеять признаки, в которых доля пропусков выше заданного порога, для дальнейшего исключения этих признаков из тренировочного набора данных."
   ]
  },
  {
   "cell_type": "markdown",
   "id": "e0d43b80",
   "metadata": {},
   "source": [
    "### Отбор признаков по количеству известных значений"
   ]
  },
  {
   "cell_type": "code",
   "execution_count": 24,
   "id": "30c9e728",
   "metadata": {},
   "outputs": [],
   "source": [
    "def get_features_high_gaps(df, critical_proportion=0.3):\n",
    "    \"\"\"\n",
    "    Find features where proportion of missing values more than critical_proportion\n",
    "    Return: list of feature names (to be removed)\n",
    "    \"\"\"\n",
    "    to_drop = []\n",
    "    for col in df.columns:\n",
    "        gap_proportion = df[col].isnull().sum() / len(df[col])\n",
    "        if gap_proportion > critical_proportion:\n",
    "            to_drop.append(col)\n",
    "    return to_drop"
   ]
  },
  {
   "cell_type": "markdown",
   "id": "dd9a24f9",
   "metadata": {},
   "source": [
    "#### Заведем словарь, в котором в качестве значений будем хранить списки имен признаков, подлежащих удалению из тренировочного набора данных (много пропусков, константный признак и т.п.). В дальнейшем понадобится при подготовке данных в отложенной выборке."
   ]
  },
  {
   "cell_type": "code",
   "execution_count": 25,
   "id": "485a7d64",
   "metadata": {},
   "outputs": [],
   "source": [
    "features_for_remove = dict()"
   ]
  },
  {
   "cell_type": "markdown",
   "id": "9bf5f1ec",
   "metadata": {},
   "source": [
    "<span style=\"color:Blue;font-weight:bold\">\n",
    "1) Найдем и удалим признаки, в которых доля пропусков выше заданного порога.\n",
    "</span>"
   ]
  },
  {
   "cell_type": "code",
   "execution_count": 26,
   "id": "c474be34",
   "metadata": {},
   "outputs": [
    {
     "name": "stdout",
     "output_type": "stream",
     "text": [
      "Кол-во удаленных признаков, в которых количество пропусков выше заданного порога, составляет = 156\n",
      "кол-во оставшихся числовых признаков = 42\n",
      "кол-во оставшихся категориальных признаков = 32\n"
     ]
    }
   ],
   "source": [
    "# здесь использую critical_proportion=0.6, т.к. именно этот вариант дал лучшие результаты на отложенной выборке.\n",
    "features_for_remove['high_gaps'] = get_features_high_gaps(df, critical_proportion=0.6)\n",
    "del_features(df, features_for_remove['high_gaps'])\n",
    "print('Кол-во удаленных признаков, в которых количество пропусков выше заданного порога, составляет =',\n",
    "    len(features_for_remove['high_gaps'])\n",
    "     )\n",
    "print(f\"кол-во оставшихся числовых признаков = {len(num_features)}\")\n",
    "print(f\"кол-во оставшихся категориальных признаков = {len(cat_features)}\")"
   ]
  },
  {
   "cell_type": "markdown",
   "id": "e4f9e128",
   "metadata": {},
   "source": [
    "Посмотрим на тепловую карту пропусков в данных, после удаления признаков, в которых имелось много пропусков."
   ]
  },
  {
   "cell_type": "code",
   "execution_count": 27,
   "id": "3f3170c3",
   "metadata": {},
   "outputs": [],
   "source": [
    "# null_map(df)"
   ]
  },
  {
   "cell_type": "markdown",
   "id": "f7b9b251",
   "metadata": {},
   "source": [
    "### Отбор числовых признаков по высокой корреляции"
   ]
  },
  {
   "cell_type": "markdown",
   "id": "f774dc2e",
   "metadata": {},
   "source": [
    "Посмотрим на наличие корреляции между числовыми признаками."
   ]
  },
  {
   "cell_type": "code",
   "execution_count": 28,
   "id": "658c4526",
   "metadata": {},
   "outputs": [
    {
     "data": {
      "text/html": [
       "<div>\n",
       "<style scoped>\n",
       "    .dataframe tbody tr th:only-of-type {\n",
       "        vertical-align: middle;\n",
       "    }\n",
       "\n",
       "    .dataframe tbody tr th {\n",
       "        vertical-align: top;\n",
       "    }\n",
       "\n",
       "    .dataframe thead th {\n",
       "        text-align: right;\n",
       "    }\n",
       "</style>\n",
       "<table border=\"1\" class=\"dataframe\">\n",
       "  <thead>\n",
       "    <tr style=\"text-align: right;\">\n",
       "      <th></th>\n",
       "      <th>feature1</th>\n",
       "      <th>feature2</th>\n",
       "      <th>correlation</th>\n",
       "    </tr>\n",
       "  </thead>\n",
       "  <tbody>\n",
       "    <tr>\n",
       "      <th>788</th>\n",
       "      <td>Var22</td>\n",
       "      <td>Var21</td>\n",
       "      <td>1.000000</td>\n",
       "    </tr>\n",
       "    <tr>\n",
       "      <th>387</th>\n",
       "      <td>Var21</td>\n",
       "      <td>Var22</td>\n",
       "      <td>1.000000</td>\n",
       "    </tr>\n",
       "    <tr>\n",
       "      <th>633</th>\n",
       "      <td>Var160</td>\n",
       "      <td>Var22</td>\n",
       "      <td>0.930553</td>\n",
       "    </tr>\n",
       "    <tr>\n",
       "      <th>794</th>\n",
       "      <td>Var22</td>\n",
       "      <td>Var160</td>\n",
       "      <td>0.930553</td>\n",
       "    </tr>\n",
       "    <tr>\n",
       "      <th>383</th>\n",
       "      <td>Var21</td>\n",
       "      <td>Var160</td>\n",
       "      <td>0.930443</td>\n",
       "    </tr>\n",
       "  </tbody>\n",
       "</table>\n",
       "</div>"
      ],
      "text/plain": [
       "    feature1 feature2  correlation\n",
       "788    Var22    Var21     1.000000\n",
       "387    Var21    Var22     1.000000\n",
       "633   Var160    Var22     0.930553\n",
       "794    Var22   Var160     0.930553\n",
       "383    Var21   Var160     0.930443"
      ]
     },
     "execution_count": 28,
     "metadata": {},
     "output_type": "execute_result"
    }
   ],
   "source": [
    "corr_info = pd.DataFrame(columns=['feature1', 'feature2', 'correlation'])\n",
    "for feature1 in df[num_features].columns:\n",
    "    for feature2 in df[num_features].columns:\n",
    "        if feature1 != feature2:\n",
    "            corr_info.loc[len(corr_info.index)] = [feature1, feature2, df[feature1].corr(df[feature2])]\n",
    "\n",
    "corr_info.sort_values(by='correlation', ascending=False, inplace=True)\n",
    "corr_info[corr_info.correlation > 0.8].head()"
   ]
  },
  {
   "cell_type": "markdown",
   "id": "fb7cd741",
   "metadata": {},
   "source": [
    "#### Создадим функцию, которая рассчитает корреляцию  между числовыми признаками. Результат работы функции - список числовых признаков имеющих высокую корреляцию (выше заданного порога) и подлежащих удалению."
   ]
  },
  {
   "cell_type": "code",
   "execution_count": 29,
   "id": "88dccc11",
   "metadata": {},
   "outputs": [],
   "source": [
    "def get_features_high_correlation(df, num_features, korr_coef):\n",
    "    corr_matrix = df[num_features].corr()\n",
    "    upper = corr_matrix.where(np.triu(np.ones(corr_matrix.shape), k=1).astype(np.bool_))\n",
    "    features_for_remove_highcorr = [column for column in upper.columns if any(upper[column] > korr_coef)]\n",
    "    return features_for_remove_highcorr"
   ]
  },
  {
   "cell_type": "markdown",
   "id": "d0c706b7",
   "metadata": {},
   "source": [
    "<span style=\"color:Blue;font-weight:bold\">\n",
    "2) Найдем и удалим признаки, в которых корреляция между признаками выше заданного порога.\n",
    "</span>"
   ]
  },
  {
   "cell_type": "markdown",
   "id": "2d1182d7",
   "metadata": {},
   "source": [
    "По шкале Чеддока, если величина коэффициента корреляции между переменными находится в диапазоне от 0.7 до 0.9, то считается что это высокая корреляция и в своих интерпретациях нам стоит обратить на нее внимание. Выберем значение коэф. корреляции для отбора признаков в размере 0.8 - как среднее между 0.7 и 0.9."
   ]
  },
  {
   "cell_type": "code",
   "execution_count": 30,
   "id": "0c4a1f4a",
   "metadata": {},
   "outputs": [
    {
     "name": "stdout",
     "output_type": "stream",
     "text": [
      "Кол-во удаленных числовых признаков, в которых корреляция выше заданного порога, составляет = 10\n",
      "кол-во оставшихся числовых признаков = 32\n",
      "кол-во оставшихся категориальных признаков = 32\n"
     ]
    }
   ],
   "source": [
    "features_for_remove['high_corr'] = get_features_high_correlation(df, num_features, korr_coef=0.8)\n",
    "del_features(df, features_for_remove['high_corr'])\n",
    "print('Кол-во удаленных числовых признаков, в которых корреляция выше заданного порога, составляет =',\n",
    "    len(features_for_remove['high_corr'])\n",
    "     )\n",
    "print(f\"кол-во оставшихся числовых признаков = {len(num_features)}\")\n",
    "print(f\"кол-во оставшихся категориальных признаков = {len(cat_features)}\")"
   ]
  },
  {
   "cell_type": "code",
   "execution_count": 31,
   "id": "ae12100a",
   "metadata": {},
   "outputs": [
    {
     "name": "stdout",
     "output_type": "stream",
     "text": [
      "['Var21', 'Var123', 'Var119', 'Var160', 'Var22', 'Var85', 'Var109', 'Var78', 'Var25', 'Var112']\n"
     ]
    }
   ],
   "source": [
    "print(features_for_remove['high_corr'])\n",
    "# ['Var22', 'Var25', 'Var83', 'Var85', 'Var109', 'Var112', 'Var119', 'Var123', 'Var132', 'Var160']"
   ]
  },
  {
   "cell_type": "code",
   "execution_count": 32,
   "id": "77b2068d",
   "metadata": {},
   "outputs": [
    {
     "name": "stdout",
     "output_type": "stream",
     "text": [
      "['Var21', 'Var123', 'Var119', 'Var160', 'Var22', 'Var85', 'Var109', 'Var78', 'Var25', 'Var112']\n"
     ]
    }
   ],
   "source": [
    "print(features_for_remove['high_corr'])"
   ]
  },
  {
   "cell_type": "markdown",
   "id": "cc4f615d",
   "metadata": {},
   "source": [
    "#### Создадим функцию, которая рассчитывает меру взаимосвязи между числовыми признаками и бинарным целевым признаком."
   ]
  },
  {
   "cell_type": "code",
   "execution_count": 33,
   "id": "3b25ab79",
   "metadata": {},
   "outputs": [],
   "source": [
    "def corr_real_binary(df, num_features, labels):\n",
    "    \"\"\"\n",
    "    num_features - список имен числовых признаков\n",
    "    \n",
    "    Мерой связи будет разность математичсеких ожиданий числовых признаков для разных классов.\n",
    "    Дополнительно рассчитываются относительные различия математических ожиданий каждого признака для разных классов,\n",
    "    рассчитанное как частное от деления большего среднего на меньшее среднее.\n",
    "    \"\"\"\n",
    "    mean_diffs={}\n",
    "    for col in df[num_features].columns:\n",
    "        mean_where_churn = np.mean(df[labels==1][col])\n",
    "        mean_where_no_churn = np.mean(df[labels==-1][col])\n",
    "        mean_diff = abs(mean_where_churn - mean_where_no_churn)\n",
    "        absolute_diff = max(mean_where_churn, mean_where_no_churn) / min(mean_where_churn, mean_where_no_churn)\n",
    "        mean_diffs[col] = [mean_diff, absolute_diff]    \n",
    "    mean_diffs = pd.DataFrame.from_dict(data=mean_diffs, orient='index', columns=['mean_diff', 'relative_diff'])\n",
    "    return mean_diffs"
   ]
  },
  {
   "cell_type": "code",
   "execution_count": 34,
   "id": "a8e7ba8b",
   "metadata": {},
   "outputs": [
    {
     "data": {
      "text/html": [
       "<div>\n",
       "<style scoped>\n",
       "    .dataframe tbody tr th:only-of-type {\n",
       "        vertical-align: middle;\n",
       "    }\n",
       "\n",
       "    .dataframe tbody tr th {\n",
       "        vertical-align: top;\n",
       "    }\n",
       "\n",
       "    .dataframe thead th {\n",
       "        text-align: right;\n",
       "    }\n",
       "</style>\n",
       "<table border=\"1\" class=\"dataframe\">\n",
       "  <thead>\n",
       "    <tr style=\"text-align: right;\">\n",
       "      <th></th>\n",
       "      <th>mean_diff</th>\n",
       "      <th>relative_diff</th>\n",
       "    </tr>\n",
       "  </thead>\n",
       "  <tbody>\n",
       "    <tr>\n",
       "      <th>Var173</th>\n",
       "      <td>0.007583</td>\n",
       "      <td>2.287108</td>\n",
       "    </tr>\n",
       "    <tr>\n",
       "      <th>Var143</th>\n",
       "      <td>0.061981</td>\n",
       "      <td>2.158215</td>\n",
       "    </tr>\n",
       "    <tr>\n",
       "      <th>Var74</th>\n",
       "      <td>46.571606</td>\n",
       "      <td>1.812032</td>\n",
       "    </tr>\n",
       "    <tr>\n",
       "      <th>Var13</th>\n",
       "      <td>427.856264</td>\n",
       "      <td>1.502998</td>\n",
       "    </tr>\n",
       "    <tr>\n",
       "      <th>Var140</th>\n",
       "      <td>490.611952</td>\n",
       "      <td>1.492740</td>\n",
       "    </tr>\n",
       "    <tr>\n",
       "      <th>Var7</th>\n",
       "      <td>1.508690</td>\n",
       "      <td>1.279336</td>\n",
       "    </tr>\n",
       "    <tr>\n",
       "      <th>Var73</th>\n",
       "      <td>13.807778</td>\n",
       "      <td>1.254613</td>\n",
       "    </tr>\n",
       "  </tbody>\n",
       "</table>\n",
       "</div>"
      ],
      "text/plain": [
       "         mean_diff  relative_diff\n",
       "Var173    0.007583       2.287108\n",
       "Var143    0.061981       2.158215\n",
       "Var74    46.571606       1.812032\n",
       "Var13   427.856264       1.502998\n",
       "Var140  490.611952       1.492740\n",
       "Var7      1.508690       1.279336\n",
       "Var73    13.807778       1.254613"
      ]
     },
     "execution_count": 34,
     "metadata": {},
     "output_type": "execute_result"
    }
   ],
   "source": [
    "corr_real_binary(df, num_features, labels).sort_values(by='relative_diff', ascending=False).head(7)"
   ]
  },
  {
   "cell_type": "markdown",
   "id": "4c950c3d",
   "metadata": {},
   "source": [
    "Посмотрим на распределение числовых признаков, после проведения первичного отбора."
   ]
  },
  {
   "cell_type": "code",
   "execution_count": 35,
   "id": "bb0ede09",
   "metadata": {
    "scrolled": false
   },
   "outputs": [],
   "source": [
    "# %%time\n",
    "# fig, axes = plt.subplots(11, 3, figsize=(15, 50))\n",
    "# for i in range(len(num_features)):\n",
    "#     sns.kdeplot(df.loc[labels == -1, num_features[i]], color='b', ax=axes[int(i/3), i%3], label=0)\n",
    "#     sns.kdeplot(df.loc[labels == 1, num_features[i]], color='r', ax=axes[int(i/3), i%3], label=1)\n",
    "#     axes[int(i/3), i%3].set(xlabel=num_features[i])\n",
    "# fig.tight_layout()"
   ]
  },
  {
   "cell_type": "markdown",
   "id": "1b9e550c",
   "metadata": {},
   "source": [
    "Попробуем прологарифмировать числовые признаки и посмотреть как изменится их распределение."
   ]
  },
  {
   "cell_type": "code",
   "execution_count": 36,
   "id": "f0ad3d95",
   "metadata": {
    "scrolled": false
   },
   "outputs": [],
   "source": [
    "# %%time\n",
    "# fig, axes = plt.subplots(11, 3, figsize=(15, 50))\n",
    "# for i in range(len(num_features)):\n",
    "#     sns.kdeplot(np.log(df.loc[labels == -1, num_features[i]]+1), color='b', ax=axes[int(i/3), i%3], label=0)\n",
    "#     sns.kdeplot(np.log(df.loc[labels == 1, num_features[i]]+1), color='r', ax=axes[int(i/3), i%3], label=1)\n",
    "#     axes[int(i/3), i%3].set(xlabel=num_features[i])\n",
    "# fig.tight_layout()"
   ]
  },
  {
   "cell_type": "markdown",
   "id": "8c0e043a",
   "metadata": {},
   "source": [
    "После логарифмирования числовых признаков, распределения некоторых из них становятся похожими на более нормальное (но все же еще далеко не нормального). Возникает мысль логарифмировать эти числовые признаки.\n",
    "Возможные вопросы к проработке в дальнейшем:\n",
    "\n",
    "- Логарифмируем: `Var21`, `Var6`, `Var94`\n",
    "- Возможно стоит логарифмировать: `Var35`, `Var28`, `Var57`, `Var126`, `Var81`."
   ]
  },
  {
   "cell_type": "markdown",
   "id": "61abeed5",
   "metadata": {},
   "source": [
    "#### possible strategies (заполнить пропуски перед логарифмированием)"
   ]
  },
  {
   "cell_type": "code",
   "execution_count": 37,
   "id": "52a30901",
   "metadata": {},
   "outputs": [],
   "source": [
    "# features_to_be_logarithmic = ['Var21', 'Var6', 'Var94']"
   ]
  },
  {
   "cell_type": "code",
   "execution_count": 38,
   "id": "3eed1f23",
   "metadata": {},
   "outputs": [],
   "source": [
    "# df[features_to_be_logarithmic] = np.log(df[features_to_be_logarithmic]+1)"
   ]
  },
  {
   "cell_type": "markdown",
   "id": "4734c159",
   "metadata": {},
   "source": [
    "## Выявление выбросов"
   ]
  },
  {
   "cell_type": "code",
   "execution_count": 39,
   "id": "4b1bb229",
   "metadata": {},
   "outputs": [],
   "source": [
    "# from sklearn.ensemble import IsolationForest\n",
    "# from sklearn.neighbors import LocalOutlierFactor\n",
    "# from sklearn.preprocessing import PowerTransformer"
   ]
  },
  {
   "cell_type": "code",
   "execution_count": 40,
   "id": "161e4c5a",
   "metadata": {},
   "outputs": [],
   "source": [
    "# df['Var6'].hist(bins=100)"
   ]
  },
  {
   "cell_type": "code",
   "execution_count": 41,
   "id": "0b80e20c",
   "metadata": {},
   "outputs": [],
   "source": [
    "# df_compare.dropna(inplace=True)"
   ]
  },
  {
   "cell_type": "code",
   "execution_count": 42,
   "id": "65d0d888",
   "metadata": {},
   "outputs": [],
   "source": [
    "# isolation_model = IsolationForest()\n",
    "# LOF_model = LocalOutlierFactor()"
   ]
  },
  {
   "cell_type": "code",
   "execution_count": 43,
   "id": "9cdc6119",
   "metadata": {},
   "outputs": [],
   "source": [
    "# df_compare['anomaly_isolation'] = isolation_model.fit_predict(df_compare[['Var6']])\n",
    "# df_compare['anomaly_LOF'] = LOF_model.fit_predict(df_compare[['Var6']])"
   ]
  },
  {
   "cell_type": "code",
   "execution_count": 44,
   "id": "23006804",
   "metadata": {},
   "outputs": [],
   "source": [
    "# print(\n",
    "#     f'количество аномалий признанных IsolationForest = {df_compare[df_compare.anomaly_isolation==-1].shape[0]}\\n',\n",
    "#     f'количество аномалий признанных LocalOutlierFactor = {df_compare[df_compare.anomaly_LOF==-1].shape[0]}'\n",
    "# )"
   ]
  },
  {
   "cell_type": "markdown",
   "id": "1bc643b0",
   "metadata": {},
   "source": [
    "## Стратегия 1"
   ]
  },
  {
   "cell_type": "code",
   "execution_count": 45,
   "id": "a9b4f6c1",
   "metadata": {},
   "outputs": [],
   "source": [
    "# set up the capper\n",
    "# capper = Winsorizer(capping_method='gaussian', tail='both', fold=3, variables=num_features, missing_values='ignore')\n",
    "# capper.fit(df)\n",
    "# df = capper.transform(df)"
   ]
  },
  {
   "cell_type": "markdown",
   "id": "32a53723",
   "metadata": {},
   "source": [
    "## Стратегия 2"
   ]
  },
  {
   "cell_type": "code",
   "execution_count": 46,
   "id": "82137a2b",
   "metadata": {},
   "outputs": [],
   "source": [
    "# set up the capper\n",
    "# capper = OutlierTrimmer(capping_method='gaussian', tail='both', fold=3, variables=num_features, missing_values='ignore')\n",
    "# capper.fit(df)\n",
    "# df = capper.transform(df)"
   ]
  },
  {
   "cell_type": "markdown",
   "id": "df15c40e",
   "metadata": {},
   "source": [
    "## Стратегия 3. Логарифмирование."
   ]
  },
  {
   "cell_type": "code",
   "execution_count": 47,
   "id": "ca2160a7",
   "metadata": {},
   "outputs": [],
   "source": [
    "# df[num_features] = np.log(df[num_features]+1)"
   ]
  },
  {
   "cell_type": "code",
   "execution_count": null,
   "id": "78ad24f0",
   "metadata": {},
   "outputs": [],
   "source": []
  },
  {
   "cell_type": "markdown",
   "id": "581c5f7f",
   "metadata": {},
   "source": [
    "## Стратегия 4. Собственная функция"
   ]
  },
  {
   "cell_type": "code",
   "execution_count": 48,
   "id": "99991ccd",
   "metadata": {},
   "outputs": [],
   "source": [
    "# plt.figure(figsize=(3,6))\n",
    "# sns.boxplot(y=df['Var6'])\n",
    "# plt.title('Boxplot')"
   ]
  },
  {
   "cell_type": "markdown",
   "id": "ffff001b",
   "metadata": {},
   "source": [
    "Видим что есть выбросы со значением более 100 000."
   ]
  },
  {
   "cell_type": "code",
   "execution_count": 49,
   "id": "37798e53",
   "metadata": {},
   "outputs": [],
   "source": [
    "# not let's find in a dataframe those outliers:\n",
    "\n",
    "# the function finds the upper and lower boundaries\n",
    "# using the IQR proximity rule\n",
    "\n",
    "# def find_boundaries(df, variable, distance=1.5):\n",
    "\n",
    "#     # distance passed as an argument, gives us the option to\n",
    "#     # estimate 1.5 times or 3 times the IQR to calculate\n",
    "#     # the boundaries.\n",
    "\n",
    "#     IQR = df[variable].quantile(0.75) - df[variable].quantile(0.25)\n",
    "\n",
    "#     lower_boundary = df[variable].quantile(0.25) - (IQR * distance)\n",
    "#     upper_boundary = df[variable].quantile(0.75) + (IQR * distance)\n",
    "\n",
    "#     return upper_boundary, lower_boundary"
   ]
  },
  {
   "cell_type": "code",
   "execution_count": 50,
   "id": "7f5e0c59",
   "metadata": {},
   "outputs": [],
   "source": [
    "# let's flag the outliers in the data set\n",
    "# upper_boundary, lower_boundary = find_boundaries(df, 'Var6', distance=1.5)\n",
    "\n",
    "# outliers = np.where(df['Var6'] > upper_boundary, True,\n",
    "#                     np.where(df['Var6'] < lower_boundary, True, False))"
   ]
  },
  {
   "cell_type": "code",
   "execution_count": 51,
   "id": "b3c0febf",
   "metadata": {},
   "outputs": [],
   "source": [
    "# outliers"
   ]
  },
  {
   "cell_type": "code",
   "execution_count": 52,
   "id": "c42d36f2",
   "metadata": {},
   "outputs": [],
   "source": [
    "# outliers.sum()"
   ]
  },
  {
   "cell_type": "code",
   "execution_count": 53,
   "id": "af367b13",
   "metadata": {},
   "outputs": [],
   "source": [
    "# let's print a few of them\n",
    "\n",
    "# outliers_df = df.loc[outliers, 'Var6']\n",
    "# outliers_df.sort_values(ascending=False)"
   ]
  },
  {
   "cell_type": "code",
   "execution_count": 54,
   "id": "ee9e3921",
   "metadata": {},
   "outputs": [],
   "source": [
    "# df.shape"
   ]
  },
  {
   "cell_type": "code",
   "execution_count": 55,
   "id": "3e862b5d",
   "metadata": {},
   "outputs": [],
   "source": [
    "# cколько не выбросов\n",
    "# tmp = df.loc[~outliers, 'Var6']\n",
    "# tmp.shape"
   ]
  },
  {
   "cell_type": "markdown",
   "id": "4eb408cc",
   "metadata": {},
   "source": [
    "Данный вариант оставил только метки отрицательного класса (-1)"
   ]
  },
  {
   "cell_type": "code",
   "execution_count": 56,
   "id": "3147e8f5",
   "metadata": {},
   "outputs": [],
   "source": [
    "# data = pd.concat(objs=[df, labels], axis=1)\n",
    "# Q1 = data.quantile(0.25)\n",
    "# Q3 = data.quantile(0.75)\n",
    "# IQR = Q3 - Q1\n",
    "# data = data[~((data < (Q1 - 1.5 * IQR)) | (data > (Q3 + 1.5 * IQR))).any(axis=1)]\n",
    "# df, labels = data.iloc[:, :-1], data.iloc[:,-1]"
   ]
  },
  {
   "cell_type": "markdown",
   "id": "743fd502",
   "metadata": {},
   "source": [
    "# Работа с пропусками"
   ]
  },
  {
   "cell_type": "code",
   "execution_count": 57,
   "id": "a296bc32",
   "metadata": {},
   "outputs": [],
   "source": [
    "from sklearn.impute import SimpleImputer\n",
    "from sklearn.impute import KNNImputer\n",
    "\n",
    "from sklearn.experimental import enable_iterative_imputer  # noqa\n",
    "from sklearn.impute import IterativeImputer"
   ]
  },
  {
   "cell_type": "markdown",
   "id": "ca6cd624",
   "metadata": {},
   "source": [
    "<span style=\"color:Blue;font-weight:bold\">\n",
    "3) Заполнение пропусков в числовых признаках\n",
    "</span>"
   ]
  },
  {
   "cell_type": "code",
   "execution_count": 58,
   "id": "7817236b",
   "metadata": {},
   "outputs": [],
   "source": [
    "num_imputer = KNNImputer()\n",
    "# num_imputer = IterativeImputer()\n",
    "# num_imputer = SimpleImputer(strategy='constant', fill_value=-999)\n",
    "# num_imputer = SimpleImputer(strategy='mean')\n",
    "# num_imputer = SimpleImputer(strategy='median')\n",
    "df[num_features] = num_imputer.fit_transform(df[num_features])"
   ]
  },
  {
   "cell_type": "code",
   "execution_count": 59,
   "id": "45e084bf",
   "metadata": {},
   "outputs": [],
   "source": [
    "# null_map(df)"
   ]
  },
  {
   "cell_type": "markdown",
   "id": "4cce774f",
   "metadata": {},
   "source": [
    "<span style=\"color:Blue;font-weight:bold\">\n",
    "4) Заполнение пропусков в категориальных признаках\n",
    "</span>"
   ]
  },
  {
   "cell_type": "markdown",
   "id": "17d03581",
   "metadata": {},
   "source": [
    "Заполним пропуски значением `missing_data`"
   ]
  },
  {
   "cell_type": "code",
   "execution_count": 60,
   "id": "289b5d47",
   "metadata": {},
   "outputs": [],
   "source": [
    "cat_imputer = SimpleImputer(strategy='constant', fill_value='missing_value')\n",
    "# cat_imputer = SimpleImputer(strategy='constant', fill_value='missing_value') # попробовать наиболее частое\n",
    "df[cat_features] = cat_imputer.fit_transform(df[cat_features])"
   ]
  },
  {
   "cell_type": "code",
   "execution_count": 61,
   "id": "e122b1f2",
   "metadata": {},
   "outputs": [],
   "source": [
    "# null_map(df)"
   ]
  },
  {
   "cell_type": "markdown",
   "id": "20b7f368",
   "metadata": {},
   "source": [
    "#### Посмотрим какое количество уникальных значений принимает каждый категориальный признак (мощность категориальных признаков)."
   ]
  },
  {
   "cell_type": "code",
   "execution_count": 62,
   "id": "b9264e91",
   "metadata": {},
   "outputs": [
    {
     "data": {
      "text/plain": [
       "Text(0.5, 1.0, 'Cardinality')"
      ]
     },
     "execution_count": 62,
     "metadata": {},
     "output_type": "execute_result"
    },
    {
     "data": {
      "image/png": "[encoded data removed]",
      "text/plain": [
       "<Figure size 2000x1000 with 1 Axes>"
      ]
     },
     "metadata": {},
     "output_type": "display_data"
    }
   ],
   "source": [
    "# The number of unique categories in a variable is called cardinality (мощность).\n",
    "df[cat_features].nunique().plot.bar(figsize=(20,10))\n",
    "plt.ylabel('Number of unique categories')\n",
    "plt.xlabel('Variables')\n",
    "plt.title('Cardinality')"
   ]
  },
  {
   "cell_type": "markdown",
   "id": "679d40f3",
   "metadata": {},
   "source": [
    "Некоторые категориальные признаки могут принимать очень большое количество значений. Следовательно, в дальнейшем, при применении OneHotEncoding (в случае выбора его как кодировщика), мы буем получать очень много \"мусорных\" столбцов. Чтобы избежать этого, проделаем следующее преобразование:\n",
    "\n",
    "Если категория встречается более определенного количества раз (count_criterion), будем считать ее большой, если менее - маленькой. Все категории, которые не относятся к списку из больших, заменить на категорию 'another'. В дальнейшем, при применении OneHotEncoding (преобразование категориальных переменных в dummy переменные) это позволит избежать получения огромного пространства признаков, где в колонке есть только одна единственная единичка (ну или малое количество единиц). Большое количество признаков приводит к так называемому проклятию размерности. Так же не стоит забывать что большое количество признаков приводит к переобучению."
   ]
  },
  {
   "cell_type": "markdown",
   "id": "8e4493e8",
   "metadata": {},
   "source": [
    "### Обработка категориальных признаков. Стратегия 1."
   ]
  },
  {
   "cell_type": "markdown",
   "id": "aec8f870",
   "metadata": {},
   "source": [
    "Создадим функцию, которая заменяет значения признаков, которые встречаются редко (реже чем count_criterion раз) на новую категорию 'another'. Результат работы функции, измененный входной набор данных."
   ]
  },
  {
   "cell_type": "code",
   "execution_count": 63,
   "id": "bd4d5086",
   "metadata": {},
   "outputs": [],
   "source": [
    "# def transform_category(df, cat_features, count_criterion = 30):\n",
    "#     \"\"\"\n",
    "#     df - таблица \"объекты - признаки\".\n",
    "#     cat_features - список наименований категориальных признаков.\n",
    "#     count_criterion - количество различных значений, которое может принимать признак.\n",
    "#     Результат работы функции - измененный df, где значения категориальных признаков встречаются редко\n",
    "#     (реже чем count_criterion раз) будут заменены на новую категорию 'another'.\n",
    "#     \"\"\"\n",
    "#     for col in cat_features:\n",
    "#         category_counts = df[col].value_counts()\n",
    "#         big_category = set(category_counts[category_counts >= count_criterion].index)\n",
    "#         df[col] = df[col].apply(lambda w: w if w in big_category else 'another')"
   ]
  },
  {
   "cell_type": "code",
   "execution_count": 64,
   "id": "e742b1e1",
   "metadata": {},
   "outputs": [],
   "source": [
    "def transform_category(df, cat_features, count_criterion = 0.01):\n",
    "    \"\"\"\n",
    "    df - таблица \"объекты - признаки\".\n",
    "    cat_features - список наименований категориальных признаков.\n",
    "    count_criterion - количество различных значений, которое может принимать признак.\n",
    "    Результат работы функции - измененный df, где значения категориальных признаков встречаются редко\n",
    "    (реже чем count_criterion раз) будут заменены на новую категорию 'another'.\n",
    "    \"\"\"\n",
    "    for col in cat_features:\n",
    "        category_counts = df[col].value_counts() / len(df)\n",
    "        big_category = set(category_counts[category_counts >= count_criterion].index)\n",
    "        df[col] = df[col].apply(lambda w: w if w in big_category else 'rare')"
   ]
  },
  {
   "cell_type": "markdown",
   "id": "cd63c239",
   "metadata": {},
   "source": [
    "<span style=\"color:Blue;font-weight:bold\">\n",
    "5) Заменим значения категориальных признаков, которые встречаются редко, на новую объединенную категорию 'another'.\n",
    "</span>"
   ]
  },
  {
   "cell_type": "code",
   "execution_count": 65,
   "id": "a9eaff03",
   "metadata": {},
   "outputs": [],
   "source": [
    "# одним из лучших результатов на отложенной выборке показал себя выбор count_criterion = 40\n",
    "# transform_category(df, cat_features, count_criterion = 40)\n",
    "transform_category(df, cat_features, count_criterion = 0.01)"
   ]
  },
  {
   "cell_type": "markdown",
   "id": "e000b308",
   "metadata": {},
   "source": [
    "Посмотрим как изменилась мощность категориальных признаков."
   ]
  },
  {
   "cell_type": "code",
   "execution_count": 66,
   "id": "37aebc90",
   "metadata": {},
   "outputs": [
    {
     "data": {
      "text/plain": [
       "Text(0.5, 1.0, 'Cardinality')"
      ]
     },
     "execution_count": 66,
     "metadata": {},
     "output_type": "execute_result"
    },
    {
     "data": {
      "image/png": "[encoded data removed]",
      "text/plain": [
       "<Figure size 2000x1000 with 1 Axes>"
      ]
     },
     "metadata": {},
     "output_type": "display_data"
    }
   ],
   "source": [
    "df[cat_features].nunique().plot.bar(figsize=(20,10))\n",
    "plt.ylabel('Number of unique categories')\n",
    "plt.xlabel('Variables')\n",
    "plt.title('Cardinality')"
   ]
  },
  {
   "cell_type": "markdown",
   "id": "daac52fb",
   "metadata": {},
   "source": [
    "Количество возможных принимаемых значений категориальных признаков уменьшилось. Но некоторые признаки все еще имеют большую мощность."
   ]
  },
  {
   "cell_type": "markdown",
   "id": "b3ebc3e5",
   "metadata": {},
   "source": [
    "#### Создадим функцию, которая находит константные категориальные признаки (получились в результате группировки редких значений)."
   ]
  },
  {
   "cell_type": "code",
   "execution_count": 67,
   "id": "0f998e49",
   "metadata": {},
   "outputs": [],
   "source": [
    "def get_single_value_features(df, cat_features):\n",
    "    \"\"\"\n",
    "    df - dataframe\n",
    "    cat_features - list of categorical features\n",
    "    \"\"\"\n",
    "    single_value_features = []\n",
    "    for col in df[cat_features].columns:\n",
    "        if df[col].nunique() == 1:\n",
    "            single_value_features.append(col)\n",
    "    return single_value_features"
   ]
  },
  {
   "cell_type": "markdown",
   "id": "89257258",
   "metadata": {},
   "source": [
    "<span style=\"color:Blue;font-weight:bold\">\n",
    "6) Найдем и удалим категориальные признаки с константным значением.\n",
    "</span>"
   ]
  },
  {
   "cell_type": "code",
   "execution_count": 68,
   "id": "101d2184",
   "metadata": {},
   "outputs": [
    {
     "data": {
      "text/plain": [
       "dict_keys(['high_gaps', 'high_corr'])"
      ]
     },
     "execution_count": 68,
     "metadata": {},
     "output_type": "execute_result"
    }
   ],
   "source": [
    "features_for_remove.keys()"
   ]
  },
  {
   "cell_type": "code",
   "execution_count": 69,
   "id": "93d18872",
   "metadata": {},
   "outputs": [],
   "source": [
    "features_for_remove['const_value'] = get_single_value_features(df, cat_features)"
   ]
  },
  {
   "cell_type": "code",
   "execution_count": 70,
   "id": "174b1195",
   "metadata": {},
   "outputs": [
    {
     "data": {
      "text/plain": [
       "dict_keys(['high_gaps', 'high_corr', 'const_value'])"
      ]
     },
     "execution_count": 70,
     "metadata": {},
     "output_type": "execute_result"
    }
   ],
   "source": [
    "features_for_remove.keys()"
   ]
  },
  {
   "cell_type": "code",
   "execution_count": 71,
   "id": "26e6fb87",
   "metadata": {},
   "outputs": [
    {
     "data": {
      "text/plain": [
       "['Var192', 'Var202']"
      ]
     },
     "execution_count": 71,
     "metadata": {},
     "output_type": "execute_result"
    }
   ],
   "source": [
    "features_for_remove['const_value']"
   ]
  },
  {
   "cell_type": "code",
   "execution_count": 72,
   "id": "327495de",
   "metadata": {},
   "outputs": [
    {
     "name": "stdout",
     "output_type": "stream",
     "text": [
      "кол-во числовых признаков = 32\n",
      "кол-во категориальных признаков = 32\n"
     ]
    }
   ],
   "source": [
    "print(f\"кол-во числовых признаков = {len(num_features)}\")\n",
    "print(f\"кол-во категориальных признаков = {len(cat_features)}\")"
   ]
  },
  {
   "cell_type": "code",
   "execution_count": 73,
   "id": "f2c71507",
   "metadata": {},
   "outputs": [
    {
     "name": "stdout",
     "output_type": "stream",
     "text": [
      "Кол-во удаленных константных категориальных признаков составляет = 2\n",
      "кол-во оставшихся числовых признаков = 32\n",
      "кол-во оставшихся категориальных признаков = 30\n"
     ]
    }
   ],
   "source": [
    "del_features(df, features_for_remove['const_value'])\n",
    "print('Кол-во удаленных константных категориальных признаков составляет =',\n",
    "    len(features_for_remove['const_value'])\n",
    "     )\n",
    "print(f\"кол-во оставшихся числовых признаков = {len(num_features)}\")\n",
    "print(f\"кол-во оставшихся категориальных признаков = {len(cat_features)}\")"
   ]
  },
  {
   "cell_type": "markdown",
   "id": "d76ffd1e",
   "metadata": {},
   "source": [
    "# Random Over Sampling"
   ]
  },
  {
   "cell_type": "code",
   "execution_count": 74,
   "id": "9ec5a583",
   "metadata": {},
   "outputs": [],
   "source": [
    "from imblearn.over_sampling import RandomOverSampler\n",
    "import warnings\n",
    "warnings.filterwarnings('ignore')"
   ]
  },
  {
   "cell_type": "code",
   "execution_count": 75,
   "id": "edd2a624",
   "metadata": {},
   "outputs": [
    {
     "name": "stdout",
     "output_type": "stream",
     "text": [
      "кол-во числовых признаков = 32\n",
      "кол-во категориальных признаков = 30\n",
      "кол-во объектов в выборке = 14638\n"
     ]
    }
   ],
   "source": [
    "X = df.copy()\n",
    "y = labels.copy()\n",
    "print(f\"кол-во числовых признаков = {X[num_features].shape[1]}\")\n",
    "print(f\"кол-во категориальных признаков = {X[cat_features].shape[1]}\")\n",
    "print(f\"кол-во объектов в выборке = {X.shape[0]}\")"
   ]
  },
  {
   "cell_type": "code",
   "execution_count": 76,
   "id": "05c52bda",
   "metadata": {},
   "outputs": [
    {
     "data": {
      "text/plain": [
       "7817    -1.0\n",
       "7734    -1.0\n",
       "15976   -1.0\n",
       "16978   -1.0\n",
       "14906   -1.0\n",
       "        ... \n",
       "7196    -1.0\n",
       "6736    -1.0\n",
       "12350   -1.0\n",
       "12806   -1.0\n",
       "17177    1.0\n",
       "Name: labels, Length: 14638, dtype: float64"
      ]
     },
     "execution_count": 76,
     "metadata": {},
     "output_type": "execute_result"
    }
   ],
   "source": [
    "y"
   ]
  },
  {
   "cell_type": "code",
   "execution_count": 77,
   "id": "9ee9243f",
   "metadata": {},
   "outputs": [
    {
     "data": {
      "text/plain": [
       "<Axes: xlabel='labels', ylabel='count'>"
      ]
     },
     "execution_count": 77,
     "metadata": {},
     "output_type": "execute_result"
    },
    {
     "data": {
      "image/png": "[encoded data removed]",
      "text/plain": [
       "<Figure size 640x480 with 1 Axes>"
      ]
     },
     "metadata": {},
     "output_type": "display_data"
    }
   ],
   "source": [
    "sns.countplot(x=y)"
   ]
  },
  {
   "cell_type": "code",
   "execution_count": 78,
   "id": "bd497a9b",
   "metadata": {},
   "outputs": [
    {
     "data": {
      "text/html": [
       "<div>\n",
       "<style scoped>\n",
       "    .dataframe tbody tr th:only-of-type {\n",
       "        vertical-align: middle;\n",
       "    }\n",
       "\n",
       "    .dataframe tbody tr th {\n",
       "        vertical-align: top;\n",
       "    }\n",
       "\n",
       "    .dataframe thead th {\n",
       "        text-align: right;\n",
       "    }\n",
       "</style>\n",
       "<table border=\"1\" class=\"dataframe\">\n",
       "  <thead>\n",
       "    <tr style=\"text-align: right;\">\n",
       "      <th></th>\n",
       "      <th>Var6</th>\n",
       "      <th>Var7</th>\n",
       "      <th>Var13</th>\n",
       "      <th>Var24</th>\n",
       "      <th>Var28</th>\n",
       "      <th>Var35</th>\n",
       "      <th>Var38</th>\n",
       "      <th>Var44</th>\n",
       "      <th>Var57</th>\n",
       "      <th>Var65</th>\n",
       "      <th>...</th>\n",
       "      <th>Var219</th>\n",
       "      <th>Var220</th>\n",
       "      <th>Var221</th>\n",
       "      <th>Var222</th>\n",
       "      <th>Var223</th>\n",
       "      <th>Var225</th>\n",
       "      <th>Var226</th>\n",
       "      <th>Var227</th>\n",
       "      <th>Var228</th>\n",
       "      <th>Var229</th>\n",
       "    </tr>\n",
       "  </thead>\n",
       "  <tbody>\n",
       "    <tr>\n",
       "      <th>6082</th>\n",
       "      <td>2737.0</td>\n",
       "      <td>7.0</td>\n",
       "      <td>396.0</td>\n",
       "      <td>18.0</td>\n",
       "      <td>166.560</td>\n",
       "      <td>0.0</td>\n",
       "      <td>108054.0</td>\n",
       "      <td>0.0</td>\n",
       "      <td>0.518479</td>\n",
       "      <td>9.0</td>\n",
       "      <td>...</td>\n",
       "      <td>FzaX</td>\n",
       "      <td>rare</td>\n",
       "      <td>d0EEeJi</td>\n",
       "      <td>rare</td>\n",
       "      <td>jySVZNlOJy</td>\n",
       "      <td>xG3x</td>\n",
       "      <td>7aLG</td>\n",
       "      <td>nIGXDli</td>\n",
       "      <td>F2FyR07IdsN7I</td>\n",
       "      <td>mj86</td>\n",
       "    </tr>\n",
       "    <tr>\n",
       "      <th>5381</th>\n",
       "      <td>812.0</td>\n",
       "      <td>7.0</td>\n",
       "      <td>4020.0</td>\n",
       "      <td>0.0</td>\n",
       "      <td>296.960</td>\n",
       "      <td>0.0</td>\n",
       "      <td>0.0</td>\n",
       "      <td>0.0</td>\n",
       "      <td>2.770562</td>\n",
       "      <td>18.0</td>\n",
       "      <td>...</td>\n",
       "      <td>FzaX</td>\n",
       "      <td>rare</td>\n",
       "      <td>oslk</td>\n",
       "      <td>rare</td>\n",
       "      <td>LM8l689qOp</td>\n",
       "      <td>kG3k</td>\n",
       "      <td>szEZ</td>\n",
       "      <td>RAYp</td>\n",
       "      <td>55YFVY9</td>\n",
       "      <td>mj86</td>\n",
       "    </tr>\n",
       "    <tr>\n",
       "      <th>10753</th>\n",
       "      <td>959.0</td>\n",
       "      <td>8.4</td>\n",
       "      <td>1836.0</td>\n",
       "      <td>4.8</td>\n",
       "      <td>197.696</td>\n",
       "      <td>0.0</td>\n",
       "      <td>60404.4</td>\n",
       "      <td>0.0</td>\n",
       "      <td>6.093997</td>\n",
       "      <td>10.8</td>\n",
       "      <td>...</td>\n",
       "      <td>FzaX</td>\n",
       "      <td>rare</td>\n",
       "      <td>oslk</td>\n",
       "      <td>rare</td>\n",
       "      <td>LM8l689qOp</td>\n",
       "      <td>missing_value</td>\n",
       "      <td>453m</td>\n",
       "      <td>RAYp</td>\n",
       "      <td>F2FyR07IdsN7I</td>\n",
       "      <td>missing_value</td>\n",
       "    </tr>\n",
       "    <tr>\n",
       "      <th>17394</th>\n",
       "      <td>2625.0</td>\n",
       "      <td>7.0</td>\n",
       "      <td>2272.0</td>\n",
       "      <td>2.0</td>\n",
       "      <td>33.440</td>\n",
       "      <td>0.0</td>\n",
       "      <td>162492.0</td>\n",
       "      <td>0.0</td>\n",
       "      <td>4.130527</td>\n",
       "      <td>9.0</td>\n",
       "      <td>...</td>\n",
       "      <td>FzaX</td>\n",
       "      <td>rare</td>\n",
       "      <td>d0EEeJi</td>\n",
       "      <td>rare</td>\n",
       "      <td>LM8l689qOp</td>\n",
       "      <td>ELof</td>\n",
       "      <td>xb3V</td>\n",
       "      <td>nIGXDli</td>\n",
       "      <td>F2FcTt7IdMT_v</td>\n",
       "      <td>mj86</td>\n",
       "    </tr>\n",
       "  </tbody>\n",
       "</table>\n",
       "<p>4 rows × 62 columns</p>\n",
       "</div>"
      ],
      "text/plain": [
       "         Var6  Var7   Var13  Var24    Var28  Var35     Var38  Var44     Var57  \\\n",
       "6082   2737.0   7.0   396.0   18.0  166.560    0.0  108054.0    0.0  0.518479   \n",
       "5381    812.0   7.0  4020.0    0.0  296.960    0.0       0.0    0.0  2.770562   \n",
       "10753   959.0   8.4  1836.0    4.8  197.696    0.0   60404.4    0.0  6.093997   \n",
       "17394  2625.0   7.0  2272.0    2.0   33.440    0.0  162492.0    0.0  4.130527   \n",
       "\n",
       "       Var65  ...  Var219  Var220   Var221  Var222      Var223         Var225  \\\n",
       "6082     9.0  ...    FzaX    rare  d0EEeJi    rare  jySVZNlOJy           xG3x   \n",
       "5381    18.0  ...    FzaX    rare     oslk    rare  LM8l689qOp           kG3k   \n",
       "10753   10.8  ...    FzaX    rare     oslk    rare  LM8l689qOp  missing_value   \n",
       "17394    9.0  ...    FzaX    rare  d0EEeJi    rare  LM8l689qOp           ELof   \n",
       "\n",
       "       Var226   Var227         Var228         Var229  \n",
       "6082     7aLG  nIGXDli  F2FyR07IdsN7I           mj86  \n",
       "5381     szEZ     RAYp        55YFVY9           mj86  \n",
       "10753    453m     RAYp  F2FyR07IdsN7I  missing_value  \n",
       "17394    xb3V  nIGXDli  F2FcTt7IdMT_v           mj86  \n",
       "\n",
       "[4 rows x 62 columns]"
      ]
     },
     "execution_count": 78,
     "metadata": {},
     "output_type": "execute_result"
    }
   ],
   "source": [
    "X.sample(4)"
   ]
  },
  {
   "cell_type": "code",
   "execution_count": 79,
   "id": "55947a74",
   "metadata": {},
   "outputs": [],
   "source": [
    "column_names = list(X.columns)\n",
    "ros = RandomOverSampler(sampling_strategy=1.0, random_state=1)\n",
    "X, y = ros.fit_resample(X.values, y)\n",
    "X = pd.DataFrame(X, columns=column_names)"
   ]
  },
  {
   "cell_type": "code",
   "execution_count": 80,
   "id": "6f700a0a",
   "metadata": {},
   "outputs": [
    {
     "data": {
      "text/plain": [
       "<Axes: xlabel='labels', ylabel='count'>"
      ]
     },
     "execution_count": 80,
     "metadata": {},
     "output_type": "execute_result"
    },
    {
     "data": {
      "image/png": "[encoded data removed]",
      "text/plain": [
       "<Figure size 400x300 with 1 Axes>"
      ]
     },
     "metadata": {},
     "output_type": "display_data"
    }
   ],
   "source": [
    "fig, ax = plt.subplots(figsize=(4, 3))\n",
    "sns.countplot(x=y)"
   ]
  },
  {
   "cell_type": "markdown",
   "id": "0b59c3e0",
   "metadata": {},
   "source": [
    "<span style=\"color:magenta;font-weight:bold\">\n",
    "Обработка тестовых данных (полученных на train_test_split)\n",
    "</span>"
   ]
  },
  {
   "cell_type": "markdown",
   "id": "3ea93962",
   "metadata": {},
   "source": [
    "<span style=\"color:Blue;font-weight:bold\">\n",
    "1) Удалим признаки, в которых количество пропусков выше заданного порога (признаки для удаления уже найдены на тренировочном наборе данных).\n",
    "</span>"
   ]
  },
  {
   "cell_type": "code",
   "execution_count": 81,
   "id": "92b07f56",
   "metadata": {},
   "outputs": [
    {
     "name": "stdout",
     "output_type": "stream",
     "text": [
      "Кол-во удаленных признаков, в которых количество пропусков выше заданного порога, составляет = 156\n"
     ]
    }
   ],
   "source": [
    "del_features(df_test, features_for_remove['high_gaps'])\n",
    "\n",
    "print('Кол-во удаленных признаков, в которых количество пропусков выше заданного порога, составляет =',\n",
    "    len(features_for_remove['high_gaps'])\n",
    "     )"
   ]
  },
  {
   "cell_type": "markdown",
   "id": "1898cec9",
   "metadata": {},
   "source": [
    "<span style=\"color:Blue;font-weight:bold\">\n",
    "2) Удалим признаки, в которых корреляция между признаками выше заданного порога.\n",
    "</span>"
   ]
  },
  {
   "cell_type": "code",
   "execution_count": 82,
   "id": "4fc4c0fb",
   "metadata": {},
   "outputs": [
    {
     "name": "stdout",
     "output_type": "stream",
     "text": [
      "Кол-во уделенных числовых признаков, в которых корреляция выше заданного порога, составляет = 10\n"
     ]
    }
   ],
   "source": [
    "del_features(df_test, features_for_remove['high_corr'])\n",
    "print('Кол-во уделенных числовых признаков, в которых корреляция выше заданного порога, составляет =',\n",
    "    len(features_for_remove['high_corr'])\n",
    "     )"
   ]
  },
  {
   "cell_type": "markdown",
   "id": "009a9510",
   "metadata": {},
   "source": [
    "<span style=\"color:Blue;font-weight:bold\">\n",
    "3) Заполнение пропусков в числовых признаках\n",
    "</span>"
   ]
  },
  {
   "cell_type": "code",
   "execution_count": 83,
   "id": "d118a43d",
   "metadata": {},
   "outputs": [],
   "source": [
    "num_imputer = KNNImputer()\n",
    "# num_imputer = IterativeImputer()\n",
    "# num_imputer = SimpleImputer(strategy='constant', fill_value=-999)\n",
    "# num_imputer = SimpleImputer(strategy='mean')\n",
    "# num_imputer = SimpleImputer(strategy='median')\n",
    "df_test[num_features] = num_imputer.fit_transform(df_test[num_features])"
   ]
  },
  {
   "cell_type": "markdown",
   "id": "8964d53d",
   "metadata": {},
   "source": [
    "<span style=\"color:Blue;font-weight:bold\">\n",
    "4) Заполнение пропусков в категориальных признаках\n",
    "</span>"
   ]
  },
  {
   "cell_type": "code",
   "execution_count": 84,
   "id": "cd8f63b0",
   "metadata": {},
   "outputs": [],
   "source": [
    "cat_imputer = SimpleImputer(strategy='constant', fill_value='missing_value')\n",
    "df_test[cat_features] = cat_imputer.fit_transform(df_test[cat_features])"
   ]
  },
  {
   "cell_type": "markdown",
   "id": "ff91ef13",
   "metadata": {},
   "source": [
    "<span style=\"color:Blue;font-weight:bold\">\n",
    "5) Заменим значения категориальных признаков, которые встречаются редко, на новую объединенную категорию 'another'.\n",
    "</span>"
   ]
  },
  {
   "cell_type": "code",
   "execution_count": 85,
   "id": "f052cdac",
   "metadata": {},
   "outputs": [],
   "source": [
    "# transform_category(df_test, cat_features, count_criterion = 40)\n",
    "transform_category(df_test, cat_features, count_criterion = 0.01)"
   ]
  },
  {
   "cell_type": "markdown",
   "id": "9385a0c2",
   "metadata": {},
   "source": [
    "<span style=\"color:Blue;font-weight:bold\">\n",
    "6) Удалим категориальные признаки с константным значением.\n",
    "</span>"
   ]
  },
  {
   "cell_type": "code",
   "execution_count": 86,
   "id": "cb9d88b4",
   "metadata": {},
   "outputs": [
    {
     "name": "stdout",
     "output_type": "stream",
     "text": [
      "Кол-во удаленных константных категориальных признаков составляет = 2\n"
     ]
    }
   ],
   "source": [
    "del_features(df_test, features_for_remove['const_value'])\n",
    "\n",
    "print('Кол-во удаленных константных категориальных признаков составляет =',\n",
    "    len(features_for_remove['const_value'])\n",
    "     )"
   ]
  },
  {
   "cell_type": "markdown",
   "id": "f8ad5597",
   "metadata": {},
   "source": [
    "#### Создание X_test, y_test"
   ]
  },
  {
   "cell_type": "code",
   "execution_count": 87,
   "id": "a84cd5e8",
   "metadata": {},
   "outputs": [
    {
     "name": "stdout",
     "output_type": "stream",
     "text": [
      "кол-во числовых признаков = 32\n",
      "кол-во категориальных признаков = 30\n",
      "кол-во объектов в выборке = 3660\n"
     ]
    }
   ],
   "source": [
    "X_test = df_test.copy()\n",
    "y_test = labels_test.copy()\n",
    "\n",
    "print(f\"кол-во числовых признаков = {len(num_features)}\")\n",
    "print(f\"кол-во категориальных признаков = {len(cat_features)}\")\n",
    "print(f\"кол-во объектов в выборке = {len(X_test)}\")"
   ]
  },
  {
   "cell_type": "markdown",
   "id": "8690478c",
   "metadata": {},
   "source": [
    "# Baseline model"
   ]
  },
  {
   "cell_type": "code",
   "execution_count": 88,
   "id": "f752b2f7",
   "metadata": {},
   "outputs": [],
   "source": [
    "from sklearn.preprocessing import StandardScaler\n",
    "from sklearn.preprocessing import RobustScaler\n",
    "from sklearn.preprocessing import OneHotEncoder\n",
    "from category_encoders.count import CountEncoder\n",
    "from sklearn.preprocessing import LabelEncoder\n",
    "\n",
    "from sklearn.compose import make_column_transformer\n",
    "from sklearn.pipeline import make_pipeline\n",
    "\n",
    "from lightgbm import LGBMClassifier\n",
    "from sklearn.svm import SVC\n",
    "from sklearn.ensemble import GradientBoostingClassifier\n",
    "from sklearn.ensemble import RandomForestClassifier\n",
    "from xgboost import XGBClassifier"
   ]
  },
  {
   "cell_type": "markdown",
   "id": "51373958",
   "metadata": {},
   "source": [
    "## Обучение модели"
   ]
  },
  {
   "cell_type": "code",
   "execution_count": 89,
   "id": "0f4d52d8",
   "metadata": {},
   "outputs": [
    {
     "name": "stdout",
     "output_type": "stream",
     "text": [
      "Базовые модели обучены\n",
      "CPU times: total: 54.2 s\n",
      "Wall time: 52.7 s\n"
     ]
    }
   ],
   "source": [
    "%%time\n",
    "# le = LabelEncoder()\n",
    "# y = le.fit_transform(y)\n",
    "\n",
    "numeric_transformer = RobustScaler()\n",
    "categorical_transformer = OneHotEncoder(handle_unknown=\"ignore\")\n",
    "\n",
    "preprocessor = make_column_transformer(\n",
    "    (numeric_transformer, num_features),\n",
    "    (categorical_transformer, cat_features)\n",
    ")\n",
    "\n",
    "boost_model = GradientBoostingClassifier(random_state=1)\n",
    "lgbm_model = LGBMClassifier(random_state=1)\n",
    "# xgb_model = XGBClassifier(random_state=1)\n",
    "# svm_model = SVC(probability=True, random_state=1)\n",
    "rf_model = RandomForestClassifier(random_state=1)\n",
    "\n",
    "boost_pipe = make_pipeline(preprocessor, boost_model)\n",
    "lgbm_pipe = make_pipeline(preprocessor, lgbm_model)\n",
    "# xgb_pipe = make_pipeline(preprocessor, xgb_model)\n",
    "# svm_pipe = make_pipeline(preprocessor, svm_model)\n",
    "rf_pipe = make_pipeline(preprocessor, rf_model)\n",
    "\n",
    "boost_pipe.fit(X, y)\n",
    "lgbm_pipe.fit(X, y)\n",
    "# xgb_pipe.fit(X, y)\n",
    "# svm_pipe.fit(X, y)\n",
    "rf_pipe.fit(X, y)\n",
    "print('Базовые модели обучены')"
   ]
  },
  {
   "cell_type": "markdown",
   "id": "1263d1f2",
   "metadata": {},
   "source": [
    "## Prediction"
   ]
  },
  {
   "cell_type": "code",
   "execution_count": 90,
   "id": "91a23ab4",
   "metadata": {},
   "outputs": [],
   "source": [
    "y_pred_boost = boost_pipe.predict_proba(X_test)\n",
    "y_pred_lgbm = lgbm_pipe.predict_proba(X_test)\n",
    "# y_pred_xgb = xgb_pipe.predict_proba(X_test)\n",
    "# y_pred_svm = svm_pipe.predict_proba(X_test)\n",
    "y_pred_rf = rf_pipe.predict_proba(X_test)"
   ]
  },
  {
   "cell_type": "markdown",
   "id": "aee54dcb",
   "metadata": {},
   "source": [
    "## Model Acurracy"
   ]
  },
  {
   "cell_type": "code",
   "execution_count": 91,
   "id": "fbd04ca5",
   "metadata": {},
   "outputs": [],
   "source": [
    "from sklearn.metrics import confusion_matrix, classification_report\n",
    "from sklearn.metrics import roc_auc_score"
   ]
  },
  {
   "cell_type": "code",
   "execution_count": 92,
   "id": "a76d5990",
   "metadata": {},
   "outputs": [
    {
     "data": {
      "text/plain": [
       "array([-1.,  1.])"
      ]
     },
     "execution_count": 92,
     "metadata": {},
     "output_type": "execute_result"
    }
   ],
   "source": [
    "boost_pipe.classes_"
   ]
  },
  {
   "cell_type": "code",
   "execution_count": 93,
   "id": "60d9a70d",
   "metadata": {},
   "outputs": [],
   "source": [
    "# pd.DataFrame(confusion_matrix(y_test, y_pred_boost), columns = ['y=1', 'y=-1'], index = ['a(x)=1', 'a(x)=-1'])"
   ]
  },
  {
   "cell_type": "code",
   "execution_count": 94,
   "id": "14b71458",
   "metadata": {},
   "outputs": [],
   "source": [
    "# pd.DataFrame(confusion_matrix(y_test, y_pred_lgbm), columns = ['y=1', 'y=-1'], index = ['a(x)=1', 'a(x)=-1'])"
   ]
  },
  {
   "cell_type": "code",
   "execution_count": 95,
   "id": "09179086",
   "metadata": {},
   "outputs": [],
   "source": [
    "# print(classification_report(y_test, y_pred_boost))"
   ]
  },
  {
   "cell_type": "code",
   "execution_count": 96,
   "id": "d977f7f2",
   "metadata": {},
   "outputs": [],
   "source": [
    "# print(classification_report(y_test, y_pred_lgbm))"
   ]
  },
  {
   "cell_type": "code",
   "execution_count": 97,
   "id": "81aeeccc",
   "metadata": {
    "scrolled": true
   },
   "outputs": [
    {
     "name": "stdout",
     "output_type": "stream",
     "text": [
      "ROC AUC (GradientBoostingClassifier) =  0.7275149724721364\n",
      "ROC AUC (LGBMClassifier) =  0.6926579830804351\n",
      "ROC AUC (RandomForestClassifier) =  0.6920794950986974\n"
     ]
    }
   ],
   "source": [
    "print('ROC AUC (GradientBoostingClassifier) = ', roc_auc_score(y_test, y_pred_boost[:, 1]))\n",
    "print('ROC AUC (LGBMClassifier) = ', roc_auc_score(y_test, y_pred_lgbm[:, 1]))\n",
    "# print('ROC AUC (XGBClassifier) = ', roc_auc_score(y_test, y_pred_xgb[:, 1]))\n",
    "# print('ROC AUC (SVC) = ', roc_auc_score(y_test, y_pred_svm[:, 1]))\n",
    "print('ROC AUC (RandomForestClassifier) = ', roc_auc_score(y_test, y_pred_rf[:, 1]))\n",
    "\n",
    "# ROC AUC (GradientBoostingClassifier) =  0.7315096011816838\n",
    "# ROC AUC (LGBMClassifier) =  0.6996331408620922\n",
    "# ROC AUC (XGBClassifier) =  0.6615259836175641\n",
    "# ROC AUC (SVC) =  0.6763679333959984\n",
    "# ROC AUC (RandomForestClassifier) =  0.6936366322008862"
   ]
  },
  {
   "cell_type": "markdown",
   "id": "8d0b7ba6",
   "metadata": {},
   "source": [
    "Посмотрим на важность признаков на основе Случайного леса."
   ]
  },
  {
   "cell_type": "code",
   "execution_count": 98,
   "id": "ac961abf",
   "metadata": {},
   "outputs": [
    {
     "name": "stdout",
     "output_type": "stream",
     "text": [
      "CPU times: total: 7.19 s\n",
      "Wall time: 7.22 s\n"
     ]
    },
    {
     "data": {
      "text/html": [
       "<style>#sk-container-id-1 {color: black;background-color: white;}#sk-container-id-1 pre{padding: 0;}#sk-container-id-1 div.sk-toggleable {background-color: white;}#sk-container-id-1 label.sk-toggleable__label {cursor: pointer;display: block;width: 100%;margin-bottom: 0;padding: 0.3em;box-sizing: border-box;text-align: center;}#sk-container-id-1 label.sk-toggleable__label-arrow:before {content: \"▸\";float: left;margin-right: 0.25em;color: #696969;}#sk-container-id-1 label.sk-toggleable__label-arrow:hover:before {color: black;}#sk-container-id-1 div.sk-estimator:hover label.sk-toggleable__label-arrow:before {color: black;}#sk-container-id-1 div.sk-toggleable__content {max-height: 0;max-width: 0;overflow: hidden;text-align: left;background-color: #f0f8ff;}#sk-container-id-1 div.sk-toggleable__content pre {margin: 0.2em;color: black;border-radius: 0.25em;background-color: #f0f8ff;}#sk-container-id-1 input.sk-toggleable__control:checked~div.sk-toggleable__content {max-height: 200px;max-width: 100%;overflow: auto;}#sk-container-id-1 input.sk-toggleable__control:checked~label.sk-toggleable__label-arrow:before {content: \"▾\";}#sk-container-id-1 div.sk-estimator input.sk-toggleable__control:checked~label.sk-toggleable__label {background-color: #d4ebff;}#sk-container-id-1 div.sk-label input.sk-toggleable__control:checked~label.sk-toggleable__label {background-color: #d4ebff;}#sk-container-id-1 input.sk-hidden--visually {border: 0;clip: rect(1px 1px 1px 1px);clip: rect(1px, 1px, 1px, 1px);height: 1px;margin: -1px;overflow: hidden;padding: 0;position: absolute;width: 1px;}#sk-container-id-1 div.sk-estimator {font-family: monospace;background-color: #f0f8ff;border: 1px dotted black;border-radius: 0.25em;box-sizing: border-box;margin-bottom: 0.5em;}#sk-container-id-1 div.sk-estimator:hover {background-color: #d4ebff;}#sk-container-id-1 div.sk-parallel-item::after {content: \"\";width: 100%;border-bottom: 1px solid gray;flex-grow: 1;}#sk-container-id-1 div.sk-label:hover label.sk-toggleable__label {background-color: #d4ebff;}#sk-container-id-1 div.sk-serial::before {content: \"\";position: absolute;border-left: 1px solid gray;box-sizing: border-box;top: 0;bottom: 0;left: 50%;z-index: 0;}#sk-container-id-1 div.sk-serial {display: flex;flex-direction: column;align-items: center;background-color: white;padding-right: 0.2em;padding-left: 0.2em;position: relative;}#sk-container-id-1 div.sk-item {position: relative;z-index: 1;}#sk-container-id-1 div.sk-parallel {display: flex;align-items: stretch;justify-content: center;background-color: white;position: relative;}#sk-container-id-1 div.sk-item::before, #sk-container-id-1 div.sk-parallel-item::before {content: \"\";position: absolute;border-left: 1px solid gray;box-sizing: border-box;top: 0;bottom: 0;left: 50%;z-index: -1;}#sk-container-id-1 div.sk-parallel-item {display: flex;flex-direction: column;z-index: 1;position: relative;background-color: white;}#sk-container-id-1 div.sk-parallel-item:first-child::after {align-self: flex-end;width: 50%;}#sk-container-id-1 div.sk-parallel-item:last-child::after {align-self: flex-start;width: 50%;}#sk-container-id-1 div.sk-parallel-item:only-child::after {width: 0;}#sk-container-id-1 div.sk-dashed-wrapped {border: 1px dashed gray;margin: 0 0.4em 0.5em 0.4em;box-sizing: border-box;padding-bottom: 0.4em;background-color: white;}#sk-container-id-1 div.sk-label label {font-family: monospace;font-weight: bold;display: inline-block;line-height: 1.2em;}#sk-container-id-1 div.sk-label-container {text-align: center;}#sk-container-id-1 div.sk-container {/* jupyter's `normalize.less` sets `[hidden] { display: none; }` but bootstrap.min.css set `[hidden] { display: none !important; }` so we also need the `!important` here to be able to override the default hidden behavior on the sphinx rendered scikit-learn.org. See: https://github.com/scikit-learn/scikit-learn/issues/21755 */display: inline-block !important;position: relative;}#sk-container-id-1 div.sk-text-repr-fallback {display: none;}</style><div id=\"sk-container-id-1\" class=\"sk-top-container\"><div class=\"sk-text-repr-fallback\"><pre>RandomForestClassifier()</pre><b>In a Jupyter environment, please rerun this cell to show the HTML representation or trust the notebook. <br />On GitHub, the HTML representation is unable to render, please try loading this page with nbviewer.org.</b></div><div class=\"sk-container\" hidden><div class=\"sk-item\"><div class=\"sk-estimator sk-toggleable\"><input class=\"sk-toggleable__control sk-hidden--visually\" id=\"sk-estimator-id-1\" type=\"checkbox\" checked><label for=\"sk-estimator-id-1\" class=\"sk-toggleable__label sk-toggleable__label-arrow\">RandomForestClassifier</label><div class=\"sk-toggleable__content\"><pre>RandomForestClassifier()</pre></div></div></div></div></div>"
      ],
      "text/plain": [
       "RandomForestClassifier()"
      ]
     },
     "execution_count": 98,
     "metadata": {},
     "output_type": "execute_result"
    }
   ],
   "source": [
    "%%time\n",
    "X_train = X.copy()\n",
    "y_train = y.copy()\n",
    "\n",
    "X_train[num_features] = RobustScaler().fit_transform(X_train[num_features])\n",
    "X_train[cat_features] = CountEncoder().fit_transform(X_train[cat_features])\n",
    "\n",
    "rf = RandomForestClassifier()\n",
    "rf.fit(X_train, y_train)"
   ]
  },
  {
   "cell_type": "markdown",
   "id": "cec3a54f",
   "metadata": {},
   "source": [
    "### Визуализируем важность признаков"
   ]
  },
  {
   "cell_type": "markdown",
   "id": "7846adbd",
   "metadata": {},
   "source": [
    "Для представления значений важности признаков будем использовать гистограмму. Сначала создадим промежуточную таблицу данных с именами признаков и их соответствующими значениями важностями."
   ]
  },
  {
   "cell_type": "code",
   "execution_count": 99,
   "id": "c0aa9df9",
   "metadata": {},
   "outputs": [
    {
     "data": {
      "text/html": [
       "<div>\n",
       "<style scoped>\n",
       "    .dataframe tbody tr th:only-of-type {\n",
       "        vertical-align: middle;\n",
       "    }\n",
       "\n",
       "    .dataframe tbody tr th {\n",
       "        vertical-align: top;\n",
       "    }\n",
       "\n",
       "    .dataframe thead th {\n",
       "        text-align: right;\n",
       "    }\n",
       "</style>\n",
       "<table border=\"1\" class=\"dataframe\">\n",
       "  <thead>\n",
       "    <tr style=\"text-align: right;\">\n",
       "      <th></th>\n",
       "      <th>feature_names</th>\n",
       "      <th>importances</th>\n",
       "    </tr>\n",
       "  </thead>\n",
       "  <tbody>\n",
       "    <tr>\n",
       "      <th>19</th>\n",
       "      <td>Var126</td>\n",
       "      <td>0.067810</td>\n",
       "    </tr>\n",
       "    <tr>\n",
       "      <th>31</th>\n",
       "      <td>Var189</td>\n",
       "      <td>0.045936</td>\n",
       "    </tr>\n",
       "    <tr>\n",
       "      <th>17</th>\n",
       "      <td>Var113</td>\n",
       "      <td>0.043395</td>\n",
       "    </tr>\n",
       "    <tr>\n",
       "      <th>8</th>\n",
       "      <td>Var57</td>\n",
       "      <td>0.039101</td>\n",
       "    </tr>\n",
       "  </tbody>\n",
       "</table>\n",
       "</div>"
      ],
      "text/plain": [
       "   feature_names  importances\n",
       "19        Var126     0.067810\n",
       "31        Var189     0.045936\n",
       "17        Var113     0.043395\n",
       "8          Var57     0.039101"
      ]
     },
     "execution_count": 99,
     "metadata": {},
     "output_type": "execute_result"
    }
   ],
   "source": [
    "importances_df = pd.DataFrame({\"feature_names\" : rf.feature_names_in_, \n",
    "                               \"importances\" : rf.feature_importances_})\n",
    "importances_df.sort_values(by='importances', inplace=True, ascending=False)\n",
    "importances_df.head(4)"
   ]
  },
  {
   "cell_type": "code",
   "execution_count": 100,
   "id": "dffcae7b",
   "metadata": {},
   "outputs": [
    {
     "data": {
      "image/png": "[encoded data removed]",
      "text/plain": [
       "<Figure size 1500x1500 with 1 Axes>"
      ]
     },
     "metadata": {},
     "output_type": "display_data"
    }
   ],
   "source": [
    "fig, ax = plt.subplots(figsize=(15, 15))\n",
    "g = sns.barplot(data=importances_df, \n",
    "                x=\"importances\", \n",
    "                y=\"feature_names\",\n",
    "                \n",
    "                # adding mako palette\n",
    "                palette=\"mako\")\n",
    "sns.despine(bottom=True, left=True)\n",
    "g.set_title(\"Feature importances\", fontsize=14)\n",
    "g.set(xticks=[])\n",
    "g.set(xlabel=None)\n",
    "g.set(ylabel=None)\n",
    "for value in g.containers:\n",
    "    g.bar_label(value, \n",
    "                padding=2) # adding space (padding) between bars and values"
   ]
  },
  {
   "cell_type": "code",
   "execution_count": 101,
   "id": "de34cc42",
   "metadata": {},
   "outputs": [
    {
     "data": {
      "text/plain": [
       "dict_keys(['high_gaps', 'high_corr', 'const_value'])"
      ]
     },
     "execution_count": 101,
     "metadata": {},
     "output_type": "execute_result"
    }
   ],
   "source": [
    "features_for_remove.keys()"
   ]
  },
  {
   "cell_type": "markdown",
   "id": "540420cf",
   "metadata": {},
   "source": [
    "Посмотрим более внимательно на признаки, которые алгоритм случайного леса определил как наименее важные."
   ]
  },
  {
   "cell_type": "code",
   "execution_count": 102,
   "id": "708ac69d",
   "metadata": {},
   "outputs": [],
   "source": [
    "features_for_remove['low_importance'] = list(importances_df['feature_names'][-11:])"
   ]
  },
  {
   "cell_type": "code",
   "execution_count": 103,
   "id": "3229e5ee",
   "metadata": {},
   "outputs": [
    {
     "name": "stdout",
     "output_type": "stream",
     "text": [
      "кол-во числовых признаков = 32\n",
      "кол-во категориальных признаков = 30\n"
     ]
    }
   ],
   "source": [
    "print(f\"кол-во числовых признаков = {len(num_features)}\")\n",
    "print(f\"кол-во категориальных признаков = {len(cat_features)}\")"
   ]
  },
  {
   "cell_type": "code",
   "execution_count": 104,
   "id": "c7d3e38f",
   "metadata": {},
   "outputs": [
    {
     "data": {
      "text/plain": [
       "['Var208',\n",
       " 'Var200',\n",
       " 'Var222',\n",
       " 'Var198',\n",
       " 'Var220',\n",
       " 'Var214',\n",
       " 'Var195',\n",
       " 'Var143',\n",
       " 'Var44',\n",
       " 'Var196',\n",
       " 'Var173']"
      ]
     },
     "execution_count": 104,
     "metadata": {},
     "output_type": "execute_result"
    }
   ],
   "source": [
    "features_for_remove['low_importance']"
   ]
  },
  {
   "cell_type": "markdown",
   "id": "cbcf124b",
   "metadata": {},
   "source": [
    "<span style=\"color:Blue;font-weight:bold\">\n",
    "6) Удалим наименее важные признаки (11 наименее важных)\n",
    "</span>"
   ]
  },
  {
   "cell_type": "code",
   "execution_count": 105,
   "id": "e868ae8a",
   "metadata": {},
   "outputs": [
    {
     "name": "stdout",
     "output_type": "stream",
     "text": [
      "Кол-во удаленных признаков, которые признаны как наименее важными = 11\n",
      "кол-во оставшихся числовых признаков = 29\n",
      "кол-во оставшихся категориальных признаков = 22\n"
     ]
    }
   ],
   "source": [
    "del_features(X, features_for_remove['low_importance'])\n",
    "\n",
    "print('Кол-во удаленных признаков, которые признаны как наименее важными =',\n",
    "    len(features_for_remove['low_importance'])\n",
    "     )\n",
    "print(f\"кол-во оставшихся числовых признаков = {len(num_features)}\")\n",
    "print(f\"кол-во оставшихся категориальных признаков = {len(cat_features)}\")"
   ]
  },
  {
   "cell_type": "code",
   "execution_count": 106,
   "id": "44f76346",
   "metadata": {},
   "outputs": [],
   "source": [
    "del_features(X_test, features_for_remove['low_importance'])"
   ]
  },
  {
   "cell_type": "markdown",
   "id": "b40827f1",
   "metadata": {},
   "source": [
    "### Попробуем повторно обучить базовые модели на оставшихся признаках."
   ]
  },
  {
   "cell_type": "code",
   "execution_count": 107,
   "id": "aae1f119",
   "metadata": {},
   "outputs": [
    {
     "name": "stdout",
     "output_type": "stream",
     "text": [
      "Базовые модели обучены\n",
      "CPU times: total: 50.7 s\n",
      "Wall time: 49.1 s\n"
     ]
    }
   ],
   "source": [
    "%%time\n",
    "# le = LabelEncoder()\n",
    "# y = le.fit_transform(y)\n",
    "\n",
    "numeric_transformer = RobustScaler()\n",
    "categorical_transformer = OneHotEncoder(handle_unknown=\"ignore\")\n",
    "\n",
    "preprocessor = make_column_transformer(\n",
    "    (numeric_transformer, num_features),\n",
    "    (categorical_transformer, cat_features)\n",
    ")\n",
    "\n",
    "boost_model = GradientBoostingClassifier(random_state=1)\n",
    "lgbm_model = LGBMClassifier(random_state=1)\n",
    "# xgb_model = XGBClassifier(random_state=1)\n",
    "# svm_model = SVC(probability=True, random_state=1)\n",
    "rf_model = RandomForestClassifier(random_state=1)\n",
    "\n",
    "boost_pipe = make_pipeline(preprocessor, boost_model)\n",
    "lgbm_pipe = make_pipeline(preprocessor, lgbm_model)\n",
    "# xgb_pipe = make_pipeline(preprocessor, xgb_model)\n",
    "# svm_pipe = make_pipeline(preprocessor, svm_model)\n",
    "rf_pipe = make_pipeline(preprocessor, rf_model)\n",
    "\n",
    "boost_pipe.fit(X, y)\n",
    "lgbm_pipe.fit(X, y)\n",
    "# xgb_pipe.fit(X, y)\n",
    "# svm_pipe.fit(X, y)\n",
    "rf_pipe.fit(X, y)\n",
    "print('Базовые модели обучены')"
   ]
  },
  {
   "cell_type": "code",
   "execution_count": 108,
   "id": "ec628b35",
   "metadata": {},
   "outputs": [],
   "source": [
    "y_pred_boost = boost_pipe.predict_proba(X_test)\n",
    "y_pred_lgbm = lgbm_pipe.predict_proba(X_test)\n",
    "# y_pred_xgb = xgb_pipe.predict_proba(X_test)\n",
    "# y_pred_svm = svm_pipe.predict_proba(X_test)\n",
    "y_pred_rf = rf_pipe.predict_proba(X_test)"
   ]
  },
  {
   "cell_type": "code",
   "execution_count": 109,
   "id": "a6998c60",
   "metadata": {},
   "outputs": [
    {
     "name": "stdout",
     "output_type": "stream",
     "text": [
      "ROC AUC (GradientBoostingClassifier) =  0.7310337048475898\n",
      "ROC AUC (LGBMClassifier) =  0.7111223311400564\n",
      "ROC AUC (RandomForestClassifier) =  0.6916873908956628\n"
     ]
    }
   ],
   "source": [
    "print('ROC AUC (GradientBoostingClassifier) = ', roc_auc_score(y_test, y_pred_boost[:, 1]))\n",
    "print('ROC AUC (LGBMClassifier) = ', roc_auc_score(y_test, y_pred_lgbm[:, 1]))\n",
    "# print('ROC AUC (XGBClassifier) = ', roc_auc_score(y_test, y_pred_xgb[:, 1]))\n",
    "# print('ROC AUC (SVC) = ', roc_auc_score(y_test, y_pred_svm[:, 1]))\n",
    "print('ROC AUC (RandomForestClassifier) = ', roc_auc_score(y_test, y_pred_rf[:, 1]))\n",
    "\n",
    "# ROC AUC (GradientBoostingClassifier) =  0.7315096011816838\n",
    "# ROC AUC (LGBMClassifier) =  0.6996331408620922\n",
    "# ROC AUC (XGBClassifier) =  0.6615259836175641\n",
    "# ROC AUC (SVC) =  0.6763679333959984\n",
    "# ROC AUC (RandomForestClassifier) =  0.6936366322008862"
   ]
  },
  {
   "cell_type": "markdown",
   "id": "cf485935",
   "metadata": {},
   "source": [
    "Отбор признаков на основе Решающего дерева не принес пользы. Некоторые модели потеряли немного в точности."
   ]
  },
  {
   "cell_type": "code",
   "execution_count": null,
   "id": "061b7200",
   "metadata": {},
   "outputs": [],
   "source": []
  },
  {
   "cell_type": "code",
   "execution_count": null,
   "id": "df06a47c",
   "metadata": {},
   "outputs": [],
   "source": []
  },
  {
   "cell_type": "markdown",
   "id": "08a8af53",
   "metadata": {},
   "source": [
    "## Hyperparameter tuning for GradientBoostingClassifier"
   ]
  },
  {
   "cell_type": "code",
   "execution_count": 110,
   "id": "a65cf862",
   "metadata": {},
   "outputs": [],
   "source": [
    "from sklearn.model_selection import GridSearchCV\n",
    "from sklearn.model_selection import StratifiedKFold"
   ]
  },
  {
   "cell_type": "code",
   "execution_count": 111,
   "id": "d2477074",
   "metadata": {},
   "outputs": [
    {
     "name": "stdout",
     "output_type": "stream",
     "text": [
      "CPU times: total: 19min 20s\n",
      "Wall time: 19min 24s\n"
     ]
    }
   ],
   "source": [
    "%%time\n",
    "\n",
    "# numeric_transformer = StandardScaler()\n",
    "numeric_transformer = RobustScaler()\n",
    "categorical_transformer = OneHotEncoder(handle_unknown=\"ignore\")\n",
    "# categorical_transformer = CountEncoder()\n",
    "# categorical_transformer = LabelEncoder()\n",
    "\n",
    "preprocessor = make_column_transformer(\n",
    "    (numeric_transformer, num_features),\n",
    "    (categorical_transformer, cat_features)\n",
    ")\n",
    "\n",
    "learning_rates = [0.2, 0.15, 0.1]\n",
    "number_of_estimators = [22, 23, 24, 25, 60, 70, 80, 100, 120, 150]\n",
    "maximum_depth = [4, 3, 2]\n",
    "# loss_functions = ['deviance', 'exponential']\n",
    "\n",
    "best_estimator = {\n",
    "    'learning_rate': None,\n",
    "    'n_estimators': None,\n",
    "    'max_depth': None,\n",
    "    'roc_auc_score': 0\n",
    "}\n",
    "\n",
    "for max_depth in maximum_depth:\n",
    "    for learning_rate in learning_rates:\n",
    "        for n_estimators in number_of_estimators:\n",
    "            boost_model = GradientBoostingClassifier(\n",
    "                learning_rate=learning_rate,\n",
    "                n_estimators=n_estimators,\n",
    "                max_depth=max_depth,\n",
    "                random_state=42)\n",
    "            boost_pipe = make_pipeline(preprocessor, boost_model)\n",
    "            boost_pipe.fit(X, y)\n",
    "            y_pred = boost_pipe.predict_proba(X_test)\n",
    "            y_pred = y_pred[:, 1]\n",
    "            \n",
    "            score = roc_auc_score(y_test, y_pred)\n",
    "            if score > best_estimator['roc_auc_score']:\n",
    "                best_estimator['learning_rate'] = learning_rate\n",
    "                best_estimator['n_estimators'] = n_estimators\n",
    "                best_estimator['max_depth'] = max_depth\n",
    "                best_estimator['roc_auc_score'] = score"
   ]
  },
  {
   "cell_type": "code",
   "execution_count": 112,
   "id": "4bdcf5fd",
   "metadata": {},
   "outputs": [
    {
     "data": {
      "text/plain": [
       "{'learning_rate': 0.1,\n",
       " 'n_estimators': 80,\n",
       " 'max_depth': 3,\n",
       " 'roc_auc_score': 0.7333095206123271}"
      ]
     },
     "execution_count": 112,
     "metadata": {},
     "output_type": "execute_result"
    }
   ],
   "source": [
    "best_estimator\n",
    "\n",
    "# {'learning_rate': 0.1,\n",
    "#  'n_estimators': 70,\n",
    "#  'max_depth': 2,\n",
    "#  'roc_auc_score': 0.7359210420303478}"
   ]
  },
  {
   "cell_type": "markdown",
   "id": "61a63273",
   "metadata": {},
   "source": [
    "## Hyperparameter tuning for LGBMClassifier"
   ]
  },
  {
   "cell_type": "code",
   "execution_count": 113,
   "id": "ce78326b",
   "metadata": {},
   "outputs": [
    {
     "name": "stdout",
     "output_type": "stream",
     "text": [
      "CPU times: total: 38min 9s\n",
      "Wall time: 10min 16s\n"
     ]
    }
   ],
   "source": [
    "%%time\n",
    "\n",
    "# numeric_transformer = StandardScaler()\n",
    "numeric_transformer = RobustScaler()\n",
    "categorical_transformer = OneHotEncoder(handle_unknown=\"ignore\")\n",
    "# categorical_transformer = CountEncoder()\n",
    "# categorical_transformer = LabelEncoder()\n",
    "\n",
    "preprocessor = make_column_transformer(\n",
    "    (numeric_transformer, num_features),\n",
    "    (categorical_transformer, cat_features)\n",
    ")\n",
    "\n",
    "learning_rates = [0.05, 0.1, 0.04, 0.07, 0.03, 0.02]\n",
    "number_of_estimators = [180, 190, 200, 24, 150, 70, 100, 50, 220, 210, 240]\n",
    "maximum_depth = [4, 3, 2, -1]\n",
    "number_of_leaves = [32, 31, 33, 30]\n",
    "\n",
    "best_estimator = {\n",
    "    'learning_rate': None,\n",
    "    'n_estimators': None,\n",
    "    'max_depth': None,\n",
    "    'num_leaves': None,\n",
    "    'roc_auc_score': 0\n",
    "}\n",
    "\n",
    "for num_leaves in number_of_leaves:\n",
    "    for max_depth in maximum_depth:\n",
    "        for learning_rate in learning_rates:\n",
    "            for n_estimators in number_of_estimators:\n",
    "                lgbm_model = LGBMClassifier(\n",
    "                    learning_rate=learning_rate,\n",
    "                    n_estimators=n_estimators,\n",
    "                    max_depth=max_depth,\n",
    "                    num_leaves=num_leaves,\n",
    "                    random_state=42)\n",
    "                lgbm_pipe = make_pipeline(preprocessor, lgbm_model)\n",
    "                lgbm_pipe.fit(X, y)\n",
    "                y_pred = lgbm_pipe.predict_proba(X_test)\n",
    "                y_pred = y_pred[:, 1]\n",
    "            \n",
    "                score = roc_auc_score(y_test, y_pred)\n",
    "                if score > best_estimator['roc_auc_score']:\n",
    "                    best_estimator['learning_rate'] = learning_rate\n",
    "                    best_estimator['n_estimators'] = n_estimators\n",
    "                    best_estimator['max_depth'] = max_depth\n",
    "                    best_estimator['num_leaves'] = num_leaves\n",
    "                    best_estimator['roc_auc_score'] = score"
   ]
  },
  {
   "cell_type": "code",
   "execution_count": 114,
   "id": "03129fd0",
   "metadata": {},
   "outputs": [
    {
     "data": {
      "text/plain": [
       "{'learning_rate': 0.03,\n",
       " 'n_estimators': 240,\n",
       " 'max_depth': 2,\n",
       " 'num_leaves': 32,\n",
       " 'roc_auc_score': 0.7356331408620921}"
      ]
     },
     "execution_count": 114,
     "metadata": {},
     "output_type": "execute_result"
    }
   ],
   "source": [
    "best_estimator\n",
    "\n",
    "# {'learning_rate': 0.04,\n",
    "#  'n_estimators': 200,\n",
    "#  'max_depth': 2,\n",
    "#  'num_leaves': 32,\n",
    "#  'roc_auc_score': 0.7389928830401504}"
   ]
  },
  {
   "cell_type": "markdown",
   "id": "8128d86c",
   "metadata": {},
   "source": [
    "# Fit on the best model"
   ]
  },
  {
   "cell_type": "code",
   "execution_count": 110,
   "id": "b1881fee",
   "metadata": {},
   "outputs": [
    {
     "name": "stdout",
     "output_type": "stream",
     "text": [
      "Лучшая модель обучена\n",
      "CPU times: total: 7.05 s\n",
      "Wall time: 7.08 s\n"
     ]
    }
   ],
   "source": [
    "%%time\n",
    "\n",
    "numeric_transformer = RobustScaler()\n",
    "categorical_transformer = OneHotEncoder(handle_unknown=\"ignore\")\n",
    "\n",
    "preprocessor = make_column_transformer(\n",
    "    (numeric_transformer, num_features),\n",
    "    (categorical_transformer, cat_features)\n",
    ")\n",
    "\n",
    "best_model = GradientBoostingClassifier(learning_rate=0.2, n_estimators=60, max_depth=2, random_state=1)\n",
    "pipe = make_pipeline(preprocessor, best_model)\n",
    "pipe.fit(X, y)\n",
    "print('Лучшая модель обучена')"
   ]
  },
  {
   "cell_type": "code",
   "execution_count": 111,
   "id": "6b25cd24",
   "metadata": {},
   "outputs": [
    {
     "name": "stdout",
     "output_type": "stream",
     "text": [
      "Лучшая модель LGBMClassifier обучена\n",
      "CPU times: total: 1.19 s\n",
      "Wall time: 403 ms\n"
     ]
    }
   ],
   "source": [
    "%%time\n",
    "\n",
    "numeric_transformer = RobustScaler()\n",
    "categorical_transformer = OneHotEncoder(handle_unknown=\"ignore\")\n",
    "\n",
    "preprocessor = make_column_transformer(\n",
    "    (numeric_transformer, num_features),\n",
    "    (categorical_transformer, cat_features)\n",
    ")\n",
    "\n",
    "best_model_lgbm = LGBMClassifier(\n",
    "    learning_rate=0.05,\n",
    "    n_estimators=210,\n",
    "    max_depth=2,\n",
    "    num_leaves=32,\n",
    "    random_state=1)\n",
    "\n",
    "pipe_lgbm = make_pipeline(preprocessor, best_model_lgbm)\n",
    "pipe_lgbm.fit(X, y)\n",
    "print('Лучшая модель LGBMClassifier обучена')"
   ]
  },
  {
   "cell_type": "markdown",
   "id": "6ead6a3d",
   "metadata": {},
   "source": [
    "# Prediction with best model"
   ]
  },
  {
   "cell_type": "code",
   "execution_count": 112,
   "id": "41e4de6f",
   "metadata": {},
   "outputs": [
    {
     "name": "stdout",
     "output_type": "stream",
     "text": [
      "ROC AUC (GradientBoostingClassifier) =  0.7349536726198469\n",
      "ROC AUC (LGBMClassifier) =  0.7390637840741239\n"
     ]
    }
   ],
   "source": [
    "y_pred_best_model = pipe.predict_proba(X_test)\n",
    "print('ROC AUC (GradientBoostingClassifier) = ', roc_auc_score(y_test, y_pred_best_model[:, 1]))\n",
    "\n",
    "y_pred_best_model_lgbm = pipe_lgbm.predict_proba(X_test)\n",
    "print('ROC AUC (LGBMClassifier) = ', roc_auc_score(y_test, y_pred_best_model_lgbm[:, 1]))"
   ]
  },
  {
   "cell_type": "markdown",
   "id": "c9cc4a43",
   "metadata": {},
   "source": [
    "# Загрузка контрольных данных (kaggle)"
   ]
  },
  {
   "cell_type": "code",
   "execution_count": 113,
   "id": "1be9c7b3",
   "metadata": {},
   "outputs": [],
   "source": [
    "X_control = pd.read_csv('orange_small_churn_test_data.csv')\n",
    "X_control.drop('ID', axis=1, inplace=True)\n",
    "\n",
    "# 1) удаление признаков с высокой долей пропусков\n",
    "del_features(X_control, features_for_remove['high_gaps'])\n",
    "\n",
    "# 2) удаление числовых признаков с высокой корреляцией\n",
    "del_features(X_control, features_for_remove['high_corr'])\n",
    "\n",
    "# 3) заполнение пропусков в числовых признаках средним (нулем)\n",
    "num_imputer = KNNImputer()\n",
    "# num_imputer = IterativeImputer()\n",
    "# num_imputer = SimpleImputer(strategy='constant', fill_value=-999)\n",
    "# num_imputer = SimpleImputer(strategy='mean')\n",
    "# num_imputer = SimpleImputer(strategy='median')\n",
    "X_control[num_features] = num_imputer.fit_transform(X_control[num_features])\n",
    "\n",
    "# 4) заполнение пропусков в категориальных признаках константой\n",
    "cat_imputer = SimpleImputer(strategy='constant', fill_value='missing_data')\n",
    "X_control[cat_features] = cat_imputer.fit_transform(X_control[cat_features])\n",
    "\n",
    "# 5) преобразование категориальных признаков\n",
    "transform_category(X_control, cat_features, count_criterion = 0.01)\n",
    "\n",
    "# 6) удаление наименее важных признаков (feature_importance_)\n",
    "del_features(X_control, features_for_remove['low_importance'])"
   ]
  },
  {
   "cell_type": "markdown",
   "id": "da0413a0",
   "metadata": {},
   "source": [
    "## Предсказание на контрольных данных"
   ]
  },
  {
   "cell_type": "code",
   "execution_count": 114,
   "id": "3824ef7b",
   "metadata": {},
   "outputs": [],
   "source": [
    "# y_pred = pipe.predict_proba(X_control)\n",
    "# y_pred = y_pred[:, 1]\n",
    "\n",
    "y_pred = pipe_lgbm.predict_proba(X_control)\n",
    "y_pred = y_pred[:, 1]"
   ]
  },
  {
   "cell_type": "markdown",
   "id": "6f203047",
   "metadata": {},
   "source": [
    "## Создание ответа для Kaggle"
   ]
  },
  {
   "cell_type": "code",
   "execution_count": 115,
   "id": "a513d38f",
   "metadata": {},
   "outputs": [
    {
     "name": "stdout",
     "output_type": "stream",
     "text": [
      "Your submission was successfully saved!\n"
     ]
    }
   ],
   "source": [
    "data_test = pd.read_csv('orange_small_churn_test_data.csv') # нужно только для считывания ID\n",
    "output = pd.DataFrame({'ID': data_test['ID'], 'result': y_pred})\n",
    "output.to_csv('my_submission_4.csv', index=False)\n",
    "print(\"Your submission was successfully saved!\")"
   ]
  },
  {
   "cell_type": "code",
   "execution_count": 116,
   "id": "cea6d26a",
   "metadata": {},
   "outputs": [
    {
     "data": {
      "text/plain": [
       "Index(['Var6', 'Var7', 'Var13', 'Var24', 'Var28', 'Var35', 'Var38', 'Var57',\n",
       "       'Var65', 'Var72', 'Var73', 'Var74', 'Var76', 'Var81', 'Var94', 'Var109',\n",
       "       'Var113', 'Var125', 'Var126', 'Var132', 'Var133', 'Var134', 'Var140',\n",
       "       'Var144', 'Var149', 'Var153', 'Var163', 'Var189', 'Var192', 'Var193',\n",
       "       'Var197', 'Var199', 'Var202', 'Var203', 'Var204', 'Var205', 'Var206',\n",
       "       'Var207', 'Var208', 'Var210', 'Var211', 'Var212', 'Var216', 'Var217',\n",
       "       'Var218', 'Var219', 'Var221', 'Var223', 'Var225', 'Var226', 'Var227',\n",
       "       'Var228', 'Var229'],\n",
       "      dtype='object')"
      ]
     },
     "execution_count": 116,
     "metadata": {},
     "output_type": "execute_result"
    }
   ],
   "source": [
    "X_control.columns"
   ]
  },
  {
   "cell_type": "code",
   "execution_count": 123,
   "id": "f166bedb",
   "metadata": {},
   "outputs": [
    {
     "data": {
      "text/plain": [
       "False"
      ]
     },
     "execution_count": 123,
     "metadata": {},
     "output_type": "execute_result"
    }
   ],
   "source": [
    "'Var44' in X_control.columns"
   ]
  },
  {
   "cell_type": "code",
   "execution_count": 125,
   "id": "cbaca0a5",
   "metadata": {},
   "outputs": [
    {
     "data": {
      "text/plain": [
       "rare             26136\n",
       "missing_value      936\n",
       "Name: Var217, dtype: int64"
      ]
     },
     "execution_count": 125,
     "metadata": {},
     "output_type": "execute_result"
    }
   ],
   "source": [
    "X['Var217'].value_counts()"
   ]
  },
  {
   "cell_type": "code",
   "execution_count": null,
   "id": "42fb3dda",
   "metadata": {},
   "outputs": [],
   "source": []
  }
 ],
 "metadata": {
  "kernelspec": {
   "display_name": "Python 3 (ipykernel)",
   "language": "python",
   "name": "python3"
  },
  "language_info": {
   "codemirror_mode": {
    "name": "ipython",
    "version": 3
   },
   "file_extension": ".py",
   "mimetype": "text/x-python",
   "name": "python",
   "nbconvert_exporter": "python",
   "pygments_lexer": "ipython3",
   "version": "3.8.16"
  }
 },
 "nbformat": 4,
 "nbformat_minor": 5
}
